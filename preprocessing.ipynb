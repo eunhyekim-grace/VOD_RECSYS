{
 "cells": [
  {
   "cell_type": "code",
   "execution_count": null,
   "metadata": {},
   "outputs": [],
   "source": [
    "import pandas as pd\n",
    "import numpy as np\n",
    "import re\n",
    "\n",
    "from itertools import chain\n"
   ]
  },
  {
   "cell_type": "markdown",
   "metadata": {},
   "source": [
    "# 전처리 함수"
   ]
  },
  {
   "cell_type": "code",
   "execution_count": 1,
   "metadata": {},
   "outputs": [],
   "source": [
    "#전처리 함수\n",
    "\n",
    "#pinfo(괄호 데이터) 추출\n",
    "def get_pinfo(li):\n",
    "    pattern = re.compile('\\(([^)]+)')\n",
    "    return [pattern.findall(str(i)) for i in li]\n",
    "\n",
    "#pinfo(괄호 데이터) 제거\n",
    "def remove_pinfo(li):\n",
    "    pattern = r'\\([^)]*\\)'\n",
    "    temp = []\n",
    "    for i in li:\n",
    "        tmp = re.sub(pattern, repl = '', string = str(i))\n",
    "        temp = np.append(temp, tmp)\n",
    "    return temp\n",
    "\n",
    "#괄호 안의 업로드 날짜 추출\n",
    "def get_upload_date(li):\n",
    "    pattern = re.compile('\\d+/\\d+/\\d+')\n",
    "    return [pattern.findall(str(i)) for i in li]\n",
    "\n",
    "#괄호 안의 업로드 날짜 제거\n",
    "def remove_upload_date(li):\n",
    "    pattern = r'\\d+/\\d+/\\d+'\n",
    "    temp = []\n",
    "    for i in li:\n",
    "        tmp = re.sub(pattern, repl = '', string = str(i))\n",
    "        temp.append(tmp)\n",
    "    return temp\n",
    "\n",
    "#회차 정보 제거 \n",
    "def remove_series(li):\n",
    "    pattern = r'\\s{0,1}\\d{1,7}[회,화]\\s{0,1}'\n",
    "    temp = []\n",
    "    for i in li:\n",
    "        tmp = re.sub(pattern, repl = '', string = str(i))\n",
    "        temp = np.append(temp, tmp)\n",
    "    return temp\n",
    "\n",
    "#공백 제거\n",
    "def remove_space(li):\n",
    "    temp = []\n",
    "    for i in li:\n",
    "        tmp = str(i).replace(\" \", \"\")\n",
    "        temp = np.append(temp, tmp)\n",
    "    return temp\n",
    "\n",
    "#맨 뒤에 . 붙어있는거 제거 \n",
    "def remove_punkt(li):\n",
    "    temp = []\n",
    "    for i in li:\n",
    "        if i[-1] == '.':\n",
    "            temp.append(i[:-1])\n",
    "        else:\n",
    "            temp.append(i)\n",
    "    return temp"
   ]
  },
  {
   "cell_type": "markdown",
   "metadata": {},
   "source": [
    "# 기본 전처리"
   ]
  },
  {
   "cell_type": "markdown",
   "metadata": {},
   "source": [
    "## 8월"
   ]
  },
  {
   "cell_type": "code",
   "execution_count": null,
   "metadata": {},
   "outputs": [],
   "source": [
    "upload_date = get_upload_date(vod08.asset_nm.values)\n",
    "upload_date = [date for sub_date in upload_date for date in (sub_date or [np.nan])]\n",
    "vod08['upload_date'] = upload_date\n",
    "vod08['upload_date'] = pd.to_datetime(vod08.upload_date, format = '%y/%m/%d')"
   ]
  },
  {
   "cell_type": "code",
   "execution_count": null,
   "metadata": {},
   "outputs": [],
   "source": [
    "#vod df에 추가할 vod 이름만 추출\n",
    "vod_name = remove_upload_date(vod08.asset_nm.values)\n",
    "\n",
    "vod_pinfo = get_pinfo(vod_name)\n",
    "vod08['pinfo'] = vod_pinfo\n",
    "\n",
    "# vod08['pinfo'] = vod08['pinfo'].str.get()\n",
    "vod08['pinfo'] =  vod08['pinfo'].apply(lambda x: str(x).replace('[','').replace(']','')) \n",
    "\n",
    "vod_pinfo = list(chain(*vod_pinfo))\n",
    "vod_pinfo = pd.Series(vod_pinfo).unique()\n",
    "\n",
    "vod_name = remove_pinfo(vod_name)\n",
    "vod_name = remove_series(vod_name)"
   ]
  },
  {
   "cell_type": "code",
   "execution_count": null,
   "metadata": {},
   "outputs": [],
   "source": [
    "cont_name = cont08.super_asset_nm.fillna('X').values\n",
    "cont_pinfo = get_pinfo(cont_name)\n",
    "\n",
    "series_name = cont08.series_nm.fillna('X').values\n",
    "series_pinfo = get_pinfo(series_name)\n",
    "\n",
    "cont_pinfo_all = [list(set(sum([p1,p2], []))) for p1, p2 in zip(cont_pinfo, series_pinfo)]\n",
    "cont08['pinfo'] = cont_pinfo_all\n",
    "cont08['pinfo'] = cont08['pinfo'].apply(lambda x: str(x).replace('[', '').replace(']', ''))\n",
    "\n",
    "cont_pinfo = list(chain(*cont_pinfo_all))\n",
    "cont_pinfo = pd.Series(cont_pinfo).unique()\n",
    "\n",
    "cont_name = remove_pinfo(cont08.super_asset_nm.values)\n",
    "cont_name = remove_series(cont_name)"
   ]
  },
  {
   "cell_type": "code",
   "execution_count": null,
   "metadata": {},
   "outputs": [],
   "source": [
    "vod_name = remove_punkt(vod_name)\n",
    "cont_name = remove_punkt(cont_name)"
   ]
  },
  {
   "cell_type": "code",
   "execution_count": null,
   "metadata": {},
   "outputs": [],
   "source": [
    "vod08['vod_name'] = vod_name\n",
    "cont08['cont_name'] = cont_name"
   ]
  },
  {
   "cell_type": "markdown",
   "metadata": {},
   "source": [
    "## 9월"
   ]
  },
  {
   "cell_type": "code",
   "execution_count": null,
   "metadata": {},
   "outputs": [],
   "source": [
    "upload_date = get_upload_date(vod09.asset_nm.values)\n",
    "upload_date = [date for sub_date in upload_date for date in (sub_date or [np.nan])]\n",
    "vod09['upload_date'] = upload_date\n",
    "vod09['upload_date'] = pd.to_datetime(vod09.upload_date, format = '%y/%m/%d')"
   ]
  },
  {
   "cell_type": "code",
   "execution_count": null,
   "metadata": {},
   "outputs": [],
   "source": [
    "#vod df에 추가할 content 이름만 추출\n",
    "vod_name2 = remove_upload_date(vod09.asset_nm.values)\n",
    "\n",
    "vod_pinfo2 = get_pinfo(vod_name2)\n",
    "vod09['pinfo'] = vod_pinfo2\n",
    "\n",
    "# vod08['pinfo'] = vod08['pinfo'].str.get()\n",
    "vod09['pinfo'] =  vod09['pinfo'].apply(lambda x: str(x).replace('[','').replace(']','')) \n",
    "\n",
    "vod_pinfo2 = list(chain(*vod_pinfo2))\n",
    "vod_pinfo2 = pd.Series(vod_pinfo2).unique()\n",
    "\n",
    "vod_name2 = remove_pinfo(vod_name2)\n",
    "vod_name2 = remove_series(vod_name2)"
   ]
  },
  {
   "cell_type": "code",
   "execution_count": null,
   "metadata": {},
   "outputs": [],
   "source": [
    "cont_name2 = cont09.super_asset_nm.fillna('X').values\n",
    "cont_pinfo2 = get_pinfo(cont_name2)\n",
    "\n",
    "series_name2 = cont09.series_nm.fillna('X').values\n",
    "series_pinfo2 = get_pinfo(series_name2)\n",
    "\n",
    "cont_pinfo_all2 = [list(set(sum([p1,p2], []))) for p1, p2 in zip(cont_pinfo2, series_pinfo2)]\n",
    "cont09['pinfo'] = cont_pinfo_all2\n",
    "cont09['pinfo'] = cont09['pinfo'].apply(lambda x: str(x).replace('[', '').replace(']', ''))\n",
    "\n",
    "cont_pinfo2 = list(chain(*cont_pinfo_all2))\n",
    "cont_pinfo2 = pd.Series(cont_pinfo2).unique()"
   ]
  },
  {
   "cell_type": "code",
   "execution_count": null,
   "metadata": {},
   "outputs": [],
   "source": [
    "cont_name2 = remove_pinfo(cont09.super_asset_nm.values)\n",
    "cont_name2 = remove_series(cont_name2)"
   ]
  },
  {
   "cell_type": "code",
   "execution_count": null,
   "metadata": {},
   "outputs": [],
   "source": [
    "vod_name2 = remove_punkt(vod_name2)\n",
    "cont_name2 = remove_punkt(cont_name2)"
   ]
  },
  {
   "cell_type": "code",
   "execution_count": null,
   "metadata": {},
   "outputs": [],
   "source": [
    "vod09['vod_name'] = vod_name2\n",
    "cont09['cont_name'] = cont_name2"
   ]
  },
  {
   "cell_type": "markdown",
   "metadata": {},
   "source": [
    "# 추가 전처리"
   ]
  },
  {
   "cell_type": "markdown",
   "metadata": {},
   "source": [
    "## vod, cont -> programm 이름 다른 것"
   ]
  },
  {
   "cell_type": "code",
   "execution_count": 2,
   "metadata": {},
   "outputs": [],
   "source": [
    "#8월 데이터\n",
    "\n",
    "#백설 공주 \n",
    "#vod -> 백설 공주 / cont -> 백설공주 (55,56)\n",
    "\n",
    "#내생애가장아름다운일주일\n",
    "#vod -> 내 생애 가장 아름다운 일주일 / cont -> 내생애가장아름다운일주일 (9160 ~ 9165)\n",
    "\n",
    "#vod쪽으로 통합 (space 있는 버전 )\n",
    "\n",
    "# cont08.loc[56, 'cont_name']= '백설 공주'\n",
    "# cont08.loc[8047, 'cont_name'] = '내 생애 가장 아름다운 일주일'"
   ]
  },
  {
   "cell_type": "code",
   "execution_count": null,
   "metadata": {},
   "outputs": [],
   "source": [
    "#9월 데이터\n",
    "\n",
    "#링\n",
    "#vod -> 링(space) / cont -> 링\n",
    "#vod를 링으로 변경 (68)\n",
    "\n",
    "#장화신은 고양이\n",
    "#vod -> 장화 신은 고양이 / cont -> 장화신은 고양이\n",
    "#vod를 장화신은 고양이로 변경 (google 검색 기준) (2830)\n",
    "\n",
    "#vod -> 장화신은고양이 / cont -> 장화신은 고양이\n",
    "#vod 변경 (google 기준) (3500, 3501)\n",
    "\n",
    "\n",
    "#내 생애 가장 아름다운 일주일\n",
    "#vod -> 내 생애 가장 아름다운 일주일 / cont -> 내생애가장아름다운일주일\n",
    "#cont 변경 -> space 추가 (8044 - 8047)\n",
    "\n",
    "#vod09.loc[3501, 'vod_name']= '장화신은 고양이'"
   ]
  },
  {
   "cell_type": "code",
   "execution_count": 7,
   "metadata": {},
   "outputs": [],
   "source": [
    "# vod_strip = remove_space(vod08.vod_name.values)\n",
    "# cont_strip = remove_space(cont08.cont_name.values)\n",
    "\n",
    "# vod_strip2 = remove_space(vod09.vod_name.values)\n",
    "# cont_strip2 = remove_space(cont09.cont_name.values)"
   ]
  },
  {
   "cell_type": "code",
   "execution_count": 8,
   "metadata": {},
   "outputs": [],
   "source": [
    "# vod08['vod_strip'] = vod_strip\n",
    "# cont08['cont_strip'] = cont_strip\n",
    "\n",
    "# vod09['vod_strip'] = vod_strip2\n",
    "# cont09['cont_strip'] = cont_strip2"
   ]
  },
  {
   "cell_type": "code",
   "execution_count": 9,
   "metadata": {},
   "outputs": [],
   "source": [
    "#빈칸 제거 \n",
    "# set1 = set(vod08.vod_strip.unique()).difference(set(cont08.cont_strip.unique())) # 183\n",
    "# li1 = list(set1)\n",
    "\n",
    "# set11 = set(vod09.vod_strip.unique()).difference(set(cont09.cont_strip.unique())) # 183\n",
    "# li11 = list(set11)"
   ]
  },
  {
   "cell_type": "code",
   "execution_count": 10,
   "metadata": {},
   "outputs": [],
   "source": [
    "# st1 = []\n",
    "# for i in li1:\n",
    "#     st1.append(vod08[vod08.vod_strip == i].index.tolist()[0])\n",
    "\n",
    "# st11 = []\n",
    "# for i in li11:\n",
    "#     st11.append(vod09[vod09.vod_strip == i].index.tolist()[0])"
   ]
  },
  {
   "cell_type": "code",
   "execution_count": 11,
   "metadata": {},
   "outputs": [],
   "source": [
    "# set2 = set(vod08.vod_name.unique()).difference(set(cont08.cont_name.unique())) # 185\n",
    "# li2 = list(set2)\n",
    "\n",
    "# set22 = set(vod09.vod_name.unique()).difference(set(cont09.cont_name.unique())) # 185\n",
    "# li22 = list(set22)"
   ]
  },
  {
   "cell_type": "code",
   "execution_count": 12,
   "metadata": {},
   "outputs": [],
   "source": [
    "# st2 = []\n",
    "# for i in li2:\n",
    "#     st2.append(vod08[vod08.vod_name == i].index.tolist()[0])\n",
    "\n",
    "# st22 = []\n",
    "# for i in li22:\n",
    "#     st22.append(vod09[vod09.vod_name == i].index.tolist()[0])"
   ]
  },
  {
   "cell_type": "code",
   "execution_count": 13,
   "metadata": {},
   "outputs": [],
   "source": [
    "# cont09[(cont09.super_asset_nm.notnull()) & (cont09.super_asset_nm.str.contains('내생애가장'))]"
   ]
  },
  {
   "cell_type": "code",
   "execution_count": 14,
   "metadata": {},
   "outputs": [],
   "source": [
    "# vod09[vod09.vod_name == '장화신은 고양이']\n",
    "# cont09[cont09.cont_name == '장화신은 고양이']"
   ]
  },
  {
   "cell_type": "markdown",
   "metadata": {},
   "source": [
    "## 프로그램 이름 잘린 것"
   ]
  },
  {
   "cell_type": "code",
   "execution_count": 3,
   "metadata": {},
   "outputs": [],
   "source": [
    "#추가 전처리 -> .으로 끝난 vod/ cont name \n",
    "#   vod - 31\n",
    "#   cont- 13\n",
    "#   프로그램 이름 짤려서 ... 형식으로 표기된거 -> 전처리?\n",
    "#   cont - 7 / vod - 2\n",
    "# 짱구는 못말려: 동물소환 닌자 배꼽수비대\n",
    "# 짱구는 못말려: 수수께끼! 꽃피는 천하떡잎학교\n",
    "# 펜트하우스2히든룸-끝나지않은이야기\n",
    "# 극장판 시티헌터: 신주쿠 프라이빗 아이즈\n",
    "# 어느날우리집현관으로멸망이들어왔다 -> (빈칸 없음)"
   ]
  },
  {
   "cell_type": "code",
   "execution_count": 4,
   "metadata": {},
   "outputs": [],
   "source": [
    "# li = cont09[(cont09.super_asset_nm.notnull()) & (cont09.super_asset_nm.str.contains('짱구는 못말려: 동물소환 닌자'))].index.tolist()\n",
    "# cont09[(cont09.super_asset_nm.notnull()) & (cont09.super_asset_nm.str.contains('짱구는 못말려: 동물소환 닌자'))]"
   ]
  },
  {
   "cell_type": "code",
   "execution_count": 5,
   "metadata": {},
   "outputs": [],
   "source": [
    "# li = vod08[(vod08.asset_nm.notnull()) & (vod08.asset_nm.str.contains('짱구는 못말려: 수수께끼! 꽃피는'))].index.tolist()\n",
    "# vod08[(vod08.asset_nm.notnull()) & (vod08.asset_nm.str.contains('펜트하우스2히든룸'))]"
   ]
  },
  {
   "cell_type": "code",
   "execution_count": 6,
   "metadata": {},
   "outputs": [],
   "source": [
    "# for i in li:\n",
    "    # cont09.loc[i, 'cont_name'] = '짱구는 못말려: 동물소환 닌자 배꼽수비대'\n",
    "# cont09.loc[39, 'cont_name'] = '해리포터와마법사의돌:매지컬무비모드'"
   ]
  },
  {
   "cell_type": "code",
   "execution_count": null,
   "metadata": {},
   "outputs": [],
   "source": []
  }
 ],
 "metadata": {
  "kernelspec": {
   "display_name": "base",
   "language": "python",
   "name": "python3"
  },
  "language_info": {
   "codemirror_mode": {
    "name": "ipython",
    "version": 3
   },
   "file_extension": ".py",
   "mimetype": "text/x-python",
   "name": "python",
   "nbconvert_exporter": "python",
   "pygments_lexer": "ipython3",
   "version": "3.10.9"
  }
 },
 "nbformat": 4,
 "nbformat_minor": 2
}
