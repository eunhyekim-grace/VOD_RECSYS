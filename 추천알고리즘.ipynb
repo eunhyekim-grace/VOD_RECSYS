{
  "nbformat": 4,
  "nbformat_minor": 0,
  "metadata": {
    "colab": {
      "provenance": [],
      "collapsed_sections": [
        "iT4G9fdXQJ6k",
        "yLt0BFvdRa3v",
        "6kMizAmm68K9",
        "CQaU4bsN96bU",
        "6TGxkIWXDGTQ"
      ],
      "gpuType": "T4"
    },
    "kernelspec": {
      "name": "python3",
      "display_name": "Python 3"
    },
    "language_info": {
      "name": "python"
    },
    "accelerator": "GPU"
  },
  "cells": [
    {
      "cell_type": "code",
      "execution_count": 1,
      "metadata": {
        "colab": {
          "base_uri": "https://localhost:8080/"
        },
        "id": "5SRPZmVY_9tB",
        "outputId": "41ac00da-102d-4a13-c9ee-583161e34981"
      },
      "outputs": [
        {
          "output_type": "stream",
          "name": "stdout",
          "text": [
            "Drive already mounted at /content/drive; to attempt to forcibly remount, call drive.mount(\"/content/drive\", force_remount=True).\n"
          ]
        }
      ],
      "source": [
        "from google.colab import drive\n",
        "drive.mount('/content/drive')"
      ]
    },
    {
      "cell_type": "code",
      "source": [
        "import numpy as np\n",
        "import pandas as pd\n",
        "import seaborn as sns\n",
        "import pandas as pd\n",
        "import numpy as np\n",
        "import seaborn as sns\n",
        "import matplotlib.pyplot as plt\n",
        "%matplotlib inline\n",
        "import warnings\n",
        "warnings.filterwarnings('ignore')\n",
        "plt.rcParams['font.family'] = 'NanumSquare'"
      ],
      "metadata": {
        "id": "XxxXGa6QAEla"
      },
      "execution_count": 1,
      "outputs": []
    },
    {
      "cell_type": "code",
      "source": [
        "!pip install lightfm"
      ],
      "metadata": {
        "id": "y_QRcS4qAUpe"
      },
      "execution_count": null,
      "outputs": []
    },
    {
      "cell_type": "code",
      "source": [
        "import lightfm\n",
        "from lightfm import LightFM, cross_validation\n",
        "from lightfm.data import Dataset\n",
        "from lightfm.evaluation import precision_at_k, recall_at_k, auc_score"
      ],
      "metadata": {
        "id": "6CxbFBXgAQbo"
      },
      "execution_count": null,
      "outputs": []
    },
    {
      "cell_type": "code",
      "source": [
        "vod_info = pd.read_pickle('/content/drive/MyDrive/DXSCHOOL/Project/vod_info_1116.pkl')\n",
        "user_id = pd.read_pickle('/content/drive/MyDrive/DXSCHOOL/Project/user_id_1116.pkl')\n",
        "rating_data = pd.read_pickle('/content/drive/MyDrive/DXSCHOOL/Project/rating_data_1116.pkl')"
      ],
      "metadata": {
        "id": "KUdDjHcKAZrS"
      },
      "execution_count": 4,
      "outputs": []
    },
    {
      "cell_type": "code",
      "source": [
        "!pip install LibRecommender"
      ],
      "metadata": {
        "id": "GvZCQGwGlr3E"
      },
      "execution_count": null,
      "outputs": []
    },
    {
      "cell_type": "code",
      "source": [
        "from libreco.algorithms import NCF"
      ],
      "metadata": {
        "id": "WSHUreCSmLVx"
      },
      "execution_count": 56,
      "outputs": []
    },
    {
      "cell_type": "markdown",
      "source": [
        "## LightFM"
      ],
      "metadata": {
        "id": "KPDVcRdjvKPl"
      }
    },
    {
      "cell_type": "code",
      "source": [
        "# 준비할 데이터프레임\n",
        "# 1. User Info\n",
        "# user feature는 아직 따로 없음 - 추후에 취향, 다양성 등에 대한 컬럼을 생성할 수 있음\n",
        "\n",
        "# 2. Item meta\n",
        "# vod feature 로는 일단 ct_cl, genre만 사용\n",
        "vod_meta = vod_info.drop(['program_name', 'running_time'], axis=1)\n",
        "\n",
        "# 3. User-Item rating\n",
        "# interation\n",
        "rating = rating_data[['user_id', 'subsr', 'vod_id', 'click_cnt', 'use_cnt']]\n",
        "rating['rating'] = rating['click_cnt'] + rating['use_cnt']\n",
        "rating = rating[['user_id', 'vod_id', 'rating']]"
      ],
      "metadata": {
        "id": "bI7FTepWASbp"
      },
      "execution_count": null,
      "outputs": []
    },
    {
      "cell_type": "code",
      "source": [
        "rating"
      ],
      "metadata": {
        "colab": {
          "base_uri": "https://localhost:8080/",
          "height": 424
        },
        "id": "aQIlXwzxC17j",
        "outputId": "ee0560db-e8c4-407e-9399-1a5821f2f20a"
      },
      "execution_count": null,
      "outputs": [
        {
          "output_type": "execute_result",
          "data": {
            "text/plain": [
              "       user_id  vod_id  rating\n",
              "0          810       0     5.0\n",
              "1          280    4768     2.0\n",
              "2          122    4768    21.0\n",
              "3          380    4768    11.0\n",
              "4          648    4768     6.0\n",
              "...        ...     ...     ...\n",
              "10355      661     706     1.0\n",
              "10356      661    4706     4.0\n",
              "10357      661    4707     4.0\n",
              "10358      420    4708     1.0\n",
              "10359      661    4709     2.0\n",
              "\n",
              "[10360 rows x 3 columns]"
            ],
            "text/html": [
              "\n",
              "  <div id=\"df-0edd3596-afc4-4954-9666-1eb57d306b84\" class=\"colab-df-container\">\n",
              "    <div>\n",
              "<style scoped>\n",
              "    .dataframe tbody tr th:only-of-type {\n",
              "        vertical-align: middle;\n",
              "    }\n",
              "\n",
              "    .dataframe tbody tr th {\n",
              "        vertical-align: top;\n",
              "    }\n",
              "\n",
              "    .dataframe thead th {\n",
              "        text-align: right;\n",
              "    }\n",
              "</style>\n",
              "<table border=\"1\" class=\"dataframe\">\n",
              "  <thead>\n",
              "    <tr style=\"text-align: right;\">\n",
              "      <th></th>\n",
              "      <th>user_id</th>\n",
              "      <th>vod_id</th>\n",
              "      <th>rating</th>\n",
              "    </tr>\n",
              "  </thead>\n",
              "  <tbody>\n",
              "    <tr>\n",
              "      <th>0</th>\n",
              "      <td>810</td>\n",
              "      <td>0</td>\n",
              "      <td>5.0</td>\n",
              "    </tr>\n",
              "    <tr>\n",
              "      <th>1</th>\n",
              "      <td>280</td>\n",
              "      <td>4768</td>\n",
              "      <td>2.0</td>\n",
              "    </tr>\n",
              "    <tr>\n",
              "      <th>2</th>\n",
              "      <td>122</td>\n",
              "      <td>4768</td>\n",
              "      <td>21.0</td>\n",
              "    </tr>\n",
              "    <tr>\n",
              "      <th>3</th>\n",
              "      <td>380</td>\n",
              "      <td>4768</td>\n",
              "      <td>11.0</td>\n",
              "    </tr>\n",
              "    <tr>\n",
              "      <th>4</th>\n",
              "      <td>648</td>\n",
              "      <td>4768</td>\n",
              "      <td>6.0</td>\n",
              "    </tr>\n",
              "    <tr>\n",
              "      <th>...</th>\n",
              "      <td>...</td>\n",
              "      <td>...</td>\n",
              "      <td>...</td>\n",
              "    </tr>\n",
              "    <tr>\n",
              "      <th>10355</th>\n",
              "      <td>661</td>\n",
              "      <td>706</td>\n",
              "      <td>1.0</td>\n",
              "    </tr>\n",
              "    <tr>\n",
              "      <th>10356</th>\n",
              "      <td>661</td>\n",
              "      <td>4706</td>\n",
              "      <td>4.0</td>\n",
              "    </tr>\n",
              "    <tr>\n",
              "      <th>10357</th>\n",
              "      <td>661</td>\n",
              "      <td>4707</td>\n",
              "      <td>4.0</td>\n",
              "    </tr>\n",
              "    <tr>\n",
              "      <th>10358</th>\n",
              "      <td>420</td>\n",
              "      <td>4708</td>\n",
              "      <td>1.0</td>\n",
              "    </tr>\n",
              "    <tr>\n",
              "      <th>10359</th>\n",
              "      <td>661</td>\n",
              "      <td>4709</td>\n",
              "      <td>2.0</td>\n",
              "    </tr>\n",
              "  </tbody>\n",
              "</table>\n",
              "<p>10360 rows × 3 columns</p>\n",
              "</div>\n",
              "    <div class=\"colab-df-buttons\">\n",
              "\n",
              "  <div class=\"colab-df-container\">\n",
              "    <button class=\"colab-df-convert\" onclick=\"convertToInteractive('df-0edd3596-afc4-4954-9666-1eb57d306b84')\"\n",
              "            title=\"Convert this dataframe to an interactive table.\"\n",
              "            style=\"display:none;\">\n",
              "\n",
              "  <svg xmlns=\"http://www.w3.org/2000/svg\" height=\"24px\" viewBox=\"0 -960 960 960\">\n",
              "    <path d=\"M120-120v-720h720v720H120Zm60-500h600v-160H180v160Zm220 220h160v-160H400v160Zm0 220h160v-160H400v160ZM180-400h160v-160H180v160Zm440 0h160v-160H620v160ZM180-180h160v-160H180v160Zm440 0h160v-160H620v160Z\"/>\n",
              "  </svg>\n",
              "    </button>\n",
              "\n",
              "  <style>\n",
              "    .colab-df-container {\n",
              "      display:flex;\n",
              "      gap: 12px;\n",
              "    }\n",
              "\n",
              "    .colab-df-convert {\n",
              "      background-color: #E8F0FE;\n",
              "      border: none;\n",
              "      border-radius: 50%;\n",
              "      cursor: pointer;\n",
              "      display: none;\n",
              "      fill: #1967D2;\n",
              "      height: 32px;\n",
              "      padding: 0 0 0 0;\n",
              "      width: 32px;\n",
              "    }\n",
              "\n",
              "    .colab-df-convert:hover {\n",
              "      background-color: #E2EBFA;\n",
              "      box-shadow: 0px 1px 2px rgba(60, 64, 67, 0.3), 0px 1px 3px 1px rgba(60, 64, 67, 0.15);\n",
              "      fill: #174EA6;\n",
              "    }\n",
              "\n",
              "    .colab-df-buttons div {\n",
              "      margin-bottom: 4px;\n",
              "    }\n",
              "\n",
              "    [theme=dark] .colab-df-convert {\n",
              "      background-color: #3B4455;\n",
              "      fill: #D2E3FC;\n",
              "    }\n",
              "\n",
              "    [theme=dark] .colab-df-convert:hover {\n",
              "      background-color: #434B5C;\n",
              "      box-shadow: 0px 1px 3px 1px rgba(0, 0, 0, 0.15);\n",
              "      filter: drop-shadow(0px 1px 2px rgba(0, 0, 0, 0.3));\n",
              "      fill: #FFFFFF;\n",
              "    }\n",
              "  </style>\n",
              "\n",
              "    <script>\n",
              "      const buttonEl =\n",
              "        document.querySelector('#df-0edd3596-afc4-4954-9666-1eb57d306b84 button.colab-df-convert');\n",
              "      buttonEl.style.display =\n",
              "        google.colab.kernel.accessAllowed ? 'block' : 'none';\n",
              "\n",
              "      async function convertToInteractive(key) {\n",
              "        const element = document.querySelector('#df-0edd3596-afc4-4954-9666-1eb57d306b84');\n",
              "        const dataTable =\n",
              "          await google.colab.kernel.invokeFunction('convertToInteractive',\n",
              "                                                    [key], {});\n",
              "        if (!dataTable) return;\n",
              "\n",
              "        const docLinkHtml = 'Like what you see? Visit the ' +\n",
              "          '<a target=\"_blank\" href=https://colab.research.google.com/notebooks/data_table.ipynb>data table notebook</a>'\n",
              "          + ' to learn more about interactive tables.';\n",
              "        element.innerHTML = '';\n",
              "        dataTable['output_type'] = 'display_data';\n",
              "        await google.colab.output.renderOutput(dataTable, element);\n",
              "        const docLink = document.createElement('div');\n",
              "        docLink.innerHTML = docLinkHtml;\n",
              "        element.appendChild(docLink);\n",
              "      }\n",
              "    </script>\n",
              "  </div>\n",
              "\n",
              "\n",
              "<div id=\"df-288677bd-6154-4a8d-b00c-93b040a3e82c\">\n",
              "  <button class=\"colab-df-quickchart\" onclick=\"quickchart('df-288677bd-6154-4a8d-b00c-93b040a3e82c')\"\n",
              "            title=\"Suggest charts\"\n",
              "            style=\"display:none;\">\n",
              "\n",
              "<svg xmlns=\"http://www.w3.org/2000/svg\" height=\"24px\"viewBox=\"0 0 24 24\"\n",
              "     width=\"24px\">\n",
              "    <g>\n",
              "        <path d=\"M19 3H5c-1.1 0-2 .9-2 2v14c0 1.1.9 2 2 2h14c1.1 0 2-.9 2-2V5c0-1.1-.9-2-2-2zM9 17H7v-7h2v7zm4 0h-2V7h2v10zm4 0h-2v-4h2v4z\"/>\n",
              "    </g>\n",
              "</svg>\n",
              "  </button>\n",
              "\n",
              "<style>\n",
              "  .colab-df-quickchart {\n",
              "      --bg-color: #E8F0FE;\n",
              "      --fill-color: #1967D2;\n",
              "      --hover-bg-color: #E2EBFA;\n",
              "      --hover-fill-color: #174EA6;\n",
              "      --disabled-fill-color: #AAA;\n",
              "      --disabled-bg-color: #DDD;\n",
              "  }\n",
              "\n",
              "  [theme=dark] .colab-df-quickchart {\n",
              "      --bg-color: #3B4455;\n",
              "      --fill-color: #D2E3FC;\n",
              "      --hover-bg-color: #434B5C;\n",
              "      --hover-fill-color: #FFFFFF;\n",
              "      --disabled-bg-color: #3B4455;\n",
              "      --disabled-fill-color: #666;\n",
              "  }\n",
              "\n",
              "  .colab-df-quickchart {\n",
              "    background-color: var(--bg-color);\n",
              "    border: none;\n",
              "    border-radius: 50%;\n",
              "    cursor: pointer;\n",
              "    display: none;\n",
              "    fill: var(--fill-color);\n",
              "    height: 32px;\n",
              "    padding: 0;\n",
              "    width: 32px;\n",
              "  }\n",
              "\n",
              "  .colab-df-quickchart:hover {\n",
              "    background-color: var(--hover-bg-color);\n",
              "    box-shadow: 0 1px 2px rgba(60, 64, 67, 0.3), 0 1px 3px 1px rgba(60, 64, 67, 0.15);\n",
              "    fill: var(--button-hover-fill-color);\n",
              "  }\n",
              "\n",
              "  .colab-df-quickchart-complete:disabled,\n",
              "  .colab-df-quickchart-complete:disabled:hover {\n",
              "    background-color: var(--disabled-bg-color);\n",
              "    fill: var(--disabled-fill-color);\n",
              "    box-shadow: none;\n",
              "  }\n",
              "\n",
              "  .colab-df-spinner {\n",
              "    border: 2px solid var(--fill-color);\n",
              "    border-color: transparent;\n",
              "    border-bottom-color: var(--fill-color);\n",
              "    animation:\n",
              "      spin 1s steps(1) infinite;\n",
              "  }\n",
              "\n",
              "  @keyframes spin {\n",
              "    0% {\n",
              "      border-color: transparent;\n",
              "      border-bottom-color: var(--fill-color);\n",
              "      border-left-color: var(--fill-color);\n",
              "    }\n",
              "    20% {\n",
              "      border-color: transparent;\n",
              "      border-left-color: var(--fill-color);\n",
              "      border-top-color: var(--fill-color);\n",
              "    }\n",
              "    30% {\n",
              "      border-color: transparent;\n",
              "      border-left-color: var(--fill-color);\n",
              "      border-top-color: var(--fill-color);\n",
              "      border-right-color: var(--fill-color);\n",
              "    }\n",
              "    40% {\n",
              "      border-color: transparent;\n",
              "      border-right-color: var(--fill-color);\n",
              "      border-top-color: var(--fill-color);\n",
              "    }\n",
              "    60% {\n",
              "      border-color: transparent;\n",
              "      border-right-color: var(--fill-color);\n",
              "    }\n",
              "    80% {\n",
              "      border-color: transparent;\n",
              "      border-right-color: var(--fill-color);\n",
              "      border-bottom-color: var(--fill-color);\n",
              "    }\n",
              "    90% {\n",
              "      border-color: transparent;\n",
              "      border-bottom-color: var(--fill-color);\n",
              "    }\n",
              "  }\n",
              "</style>\n",
              "\n",
              "  <script>\n",
              "    async function quickchart(key) {\n",
              "      const quickchartButtonEl =\n",
              "        document.querySelector('#' + key + ' button');\n",
              "      quickchartButtonEl.disabled = true;  // To prevent multiple clicks.\n",
              "      quickchartButtonEl.classList.add('colab-df-spinner');\n",
              "      try {\n",
              "        const charts = await google.colab.kernel.invokeFunction(\n",
              "            'suggestCharts', [key], {});\n",
              "      } catch (error) {\n",
              "        console.error('Error during call to suggestCharts:', error);\n",
              "      }\n",
              "      quickchartButtonEl.classList.remove('colab-df-spinner');\n",
              "      quickchartButtonEl.classList.add('colab-df-quickchart-complete');\n",
              "    }\n",
              "    (() => {\n",
              "      let quickchartButtonEl =\n",
              "        document.querySelector('#df-288677bd-6154-4a8d-b00c-93b040a3e82c button');\n",
              "      quickchartButtonEl.style.display =\n",
              "        google.colab.kernel.accessAllowed ? 'block' : 'none';\n",
              "    })();\n",
              "  </script>\n",
              "</div>\n",
              "    </div>\n",
              "  </div>\n"
            ]
          },
          "metadata": {},
          "execution_count": 113
        }
      ]
    },
    {
      "cell_type": "code",
      "source": [
        "# 참고 코드\n",
        "# https://greeksharifa.github.io/machine_learning/2020/06/01/LightFM/\n",
        "# https://github.com/recommenders-team/recommenders/blob/main/examples/02_model_hybrid/lightfm_deep_dive.ipynb"
      ],
      "metadata": {
        "id": "Nmsi85fzVVLP"
      },
      "execution_count": null,
      "outputs": []
    },
    {
      "cell_type": "markdown",
      "source": [
        "### Interaction 만 이용 (train/test 내장 메서드로)"
      ],
      "metadata": {
        "id": "iT4G9fdXQJ6k"
      }
    },
    {
      "cell_type": "markdown",
      "source": [
        "#### LightFM 라이브러리 활용을 위한 데이터셋 준비"
      ],
      "metadata": {
        "id": "dma5b6pXCoxi"
      }
    },
    {
      "cell_type": "code",
      "source": [
        "dataset = Dataset()\n",
        "dataset.fit(users = rating['user_id'],\n",
        "            items = rating['vod_id'])\n",
        "\n",
        "num_users, num_vods = dataset.interactions_shape()\n",
        "print(num_users) # Unique User = 924 명\n",
        "print(num_vods)  # Unique VOD = 4786 개"
      ],
      "metadata": {
        "colab": {
          "base_uri": "https://localhost:8080/"
        },
        "id": "mF4c06gwBCEA",
        "outputId": "dbfe3c36-0395-4e4a-e330-48c98c52d123"
      },
      "execution_count": null,
      "outputs": [
        {
          "output_type": "stream",
          "name": "stdout",
          "text": [
            "924\n",
            "4786\n"
          ]
        }
      ]
    },
    {
      "cell_type": "code",
      "source": [
        "# interaction matrix 생성 -> csr matrix\n",
        "# weights는 평점 value가 있는 matrix고, interactions는 상호작용이 있으면 1 아니면 0으로 이루어진 matrix임\n",
        "# 둘 중 뭐로 학습해야 하는지?\n",
        "(interactions, weights) = dataset.build_interactions(rating.values)"
      ],
      "metadata": {
        "id": "5NeqyQEKDMHw"
      },
      "execution_count": null,
      "outputs": []
    },
    {
      "cell_type": "code",
      "source": [
        "# train/test 분할\n",
        "# cross_validation.random_train_test_split 메서드가 존재함\n",
        "# test에 있는 user가 무조건 train에 존재하게끔 나눠지는 방법은 아니기에 cold-start 문제가 test set에서 발생 가능함 유의\n",
        "train_interactions, test_interactions = cross_validation.random_train_test_split(\n",
        "    interactions, test_percentage=0.2,random_state=0)"
      ],
      "metadata": {
        "id": "GPFY7t7-D0JF"
      },
      "execution_count": null,
      "outputs": []
    },
    {
      "cell_type": "code",
      "source": [
        "print(train_interactions.shape)\n",
        "print(test_interactions.shape)"
      ],
      "metadata": {
        "colab": {
          "base_uri": "https://localhost:8080/"
        },
        "id": "uijNI9-_EtGj",
        "outputId": "9c84fc89-4429-4210-d912-8edccb9aace8"
      },
      "execution_count": null,
      "outputs": [
        {
          "output_type": "stream",
          "name": "stdout",
          "text": [
            "(924, 4786)\n",
            "(924, 4786)\n"
          ]
        }
      ]
    },
    {
      "cell_type": "code",
      "source": [
        "train_weights, test_weights = cross_validation.random_train_test_split(\n",
        "    weights, test_percentage=0.2, random_state=0\n",
        ")"
      ],
      "metadata": {
        "id": "xclc3TXfbx9W"
      },
      "execution_count": null,
      "outputs": []
    },
    {
      "cell_type": "code",
      "source": [
        "print(train_weights.shape)\n",
        "print(test_weights.shape)"
      ],
      "metadata": {
        "colab": {
          "base_uri": "https://localhost:8080/"
        },
        "id": "LxSOSIrOcT35",
        "outputId": "8bf4f91d-1da6-4891-d933-3143e435af6f"
      },
      "execution_count": null,
      "outputs": [
        {
          "output_type": "stream",
          "name": "stdout",
          "text": [
            "(924, 4786)\n",
            "(924, 4786)\n"
          ]
        }
      ]
    },
    {
      "cell_type": "markdown",
      "source": [
        "#### 모델 학습"
      ],
      "metadata": {
        "id": "bX_BA-PYExRs"
      }
    },
    {
      "cell_type": "code",
      "source": [
        "# loss에 'bpr' Bayesian Personalized Ranking Loss 사용도 가능\n",
        "lfm1 = LightFM(loss='bpr', no_components=20, learning_rate=0.1, random_state=0)\n",
        "lfm1.fit(interactions=train_interactions, sample_weight=train_weights, epochs=20, verbose=1)"
      ],
      "metadata": {
        "colab": {
          "base_uri": "https://localhost:8080/"
        },
        "id": "hksL7fCJE6EM",
        "outputId": "ad1b527b-a0e0-48ff-ed15-13f97c814b5a"
      },
      "execution_count": null,
      "outputs": [
        {
          "output_type": "stream",
          "name": "stderr",
          "text": [
            "Epoch: 100%|██████████| 20/20 [00:00<00:00, 92.49it/s]\n"
          ]
        },
        {
          "output_type": "execute_result",
          "data": {
            "text/plain": [
              "<lightfm.lightfm.LightFM at 0x7e7199ba23b0>"
            ]
          },
          "metadata": {},
          "execution_count": 287
        }
      ]
    },
    {
      "cell_type": "markdown",
      "source": [
        "#### Test data 생성"
      ],
      "metadata": {
        "id": "O1IsGMwJGKCy"
      }
    },
    {
      "cell_type": "markdown",
      "source": [
        "#### 모델 Predict"
      ],
      "metadata": {
        "id": "wG8dkp7UIcWk"
      }
    },
    {
      "cell_type": "code",
      "source": [
        "# LightFM 모델의 predict 값은 ranking의 목적일 뿐인 점을 유의해야 함\n"
      ],
      "metadata": {
        "id": "1Ik2hhEGIi2K"
      },
      "execution_count": null,
      "outputs": []
    },
    {
      "cell_type": "markdown",
      "source": [
        "#### 모델 평가"
      ],
      "metadata": {
        "id": "6Sxt19GhIvYS"
      }
    },
    {
      "cell_type": "code",
      "source": [
        "precision = precision_at_k(lfm1, test_interactions, train_interactions, k=10).mean()\n",
        "recall = recall_at_k(lfm1, test_interactions, train_interactions, k=10).mean()\n",
        "print('Precision@K: {:.3f}'.format(precision))\n",
        "print('Recall@K: {:.3f}'.format(recall))"
      ],
      "metadata": {
        "colab": {
          "base_uri": "https://localhost:8080/"
        },
        "id": "3QpbYH-IKltE",
        "outputId": "12b25e76-28af-4f5b-9d6a-c37c5b0a6b94"
      },
      "execution_count": null,
      "outputs": [
        {
          "output_type": "stream",
          "name": "stdout",
          "text": [
            "Precision@K: 0.038\n",
            "Recall@K: 0.157\n"
          ]
        }
      ]
    },
    {
      "cell_type": "code",
      "source": [
        "# sample_weights 추가했을 때\n",
        "precision = precision_at_k(lfm1, test_interactions, train_interactions, k=10).mean()\n",
        "recall = recall_at_k(lfm1, test_interactions, train_interactions, k=10).mean()\n",
        "print('Precision@K: {:.3f}'.format(precision))\n",
        "print('Recall@K: {:.3f}'.format(recall))"
      ],
      "metadata": {
        "colab": {
          "base_uri": "https://localhost:8080/"
        },
        "id": "mswPQmoOcdg_",
        "outputId": "cc7e65b0-8ee6-464a-efce-5ab2805cbb43"
      },
      "execution_count": null,
      "outputs": [
        {
          "output_type": "stream",
          "name": "stdout",
          "text": [
            "Precision@K: 0.003\n",
            "Recall@K: 0.012\n"
          ]
        }
      ]
    },
    {
      "cell_type": "code",
      "source": [
        "precision = precision_at_k(lfm1, test_interactions, train_interactions, k=20).mean()\n",
        "recall = recall_at_k(lfm1, test_interactions, train_interactions, k=20).mean()\n",
        "print('Precision@K: {:.3f}'.format(precision))\n",
        "print('Recall@K: {:.3f}'.format(recall))"
      ],
      "metadata": {
        "colab": {
          "base_uri": "https://localhost:8080/"
        },
        "id": "zwd54BQpLiMb",
        "outputId": "34d09427-e253-4853-cded-a705a6bda294"
      },
      "execution_count": null,
      "outputs": [
        {
          "output_type": "stream",
          "name": "stdout",
          "text": [
            "Precision@K: 0.031\n",
            "Recall@K: 0.263\n"
          ]
        }
      ]
    },
    {
      "cell_type": "markdown",
      "source": [
        "### Interaction 만 이용 (train/test 방식 다르게)"
      ],
      "metadata": {
        "id": "yLt0BFvdRa3v"
      }
    },
    {
      "cell_type": "markdown",
      "source": [
        "#### LightFM 라이브러리 활용을 위한 데이터셋 준비"
      ],
      "metadata": {
        "id": "BGcufUtURa34"
      }
    },
    {
      "cell_type": "code",
      "source": [
        "# train_interactions의 shape과 test_interactions의 shape은 동일해야 함\n",
        "df_test = rating.copy()\n",
        "df_train = rating.copy()"
      ],
      "metadata": {
        "id": "MuVQxZ1sTJZi"
      },
      "execution_count": null,
      "outputs": []
    },
    {
      "cell_type": "code",
      "source": [
        "df_test = df_test.groupby('user_id').first().reset_index()"
      ],
      "metadata": {
        "id": "-hsHC0_TTdZw"
      },
      "execution_count": null,
      "outputs": []
    },
    {
      "cell_type": "code",
      "source": [
        "def mask_first(x):\n",
        "    result = np.ones_like(x)\n",
        "    result[0] = 0\n",
        "    return result\n",
        "\n",
        "mask = rating.groupby(['user_id'])['user_id'].transform(mask_first).astype(bool)\n",
        "df_train = rating.loc[mask]"
      ],
      "metadata": {
        "id": "DjpjpolYTqkM"
      },
      "execution_count": null,
      "outputs": []
    },
    {
      "cell_type": "code",
      "source": [
        "# train user, item 리스트 생성\n",
        "uids = df_train['user_id'].tolist()\n",
        "iids = df_train['vod_id'].tolist()\n",
        "values = list(df_train.rating)"
      ],
      "metadata": {
        "id": "BQOocD-_TudN"
      },
      "execution_count": null,
      "outputs": []
    },
    {
      "cell_type": "code",
      "source": [
        "train_interactions = pd.DataFrame(np.zeros([num_users, num_vods]).astype(int))\n",
        "test_interactions = pd.DataFrame(np.zeros([num_users, num_vods]).astype(int))"
      ],
      "metadata": {
        "id": "k3V1DIijU1lb"
      },
      "execution_count": null,
      "outputs": []
    },
    {
      "cell_type": "code",
      "source": [
        "# train_interactions 생성 - 돌아가는데 시간이 너무 오래걸림...\n",
        "cnt = 0\n",
        "for i in range(len(uids)):\n",
        "    train_interactions.iloc[uids[i], iids[i]] = 1"
      ],
      "metadata": {
        "id": "Z6sAaTBBULJM"
      },
      "execution_count": null,
      "outputs": []
    },
    {
      "cell_type": "code",
      "source": [
        "# test user, item 리스트 생성\n",
        "uids_test = df_test['user_id'].tolist()\n",
        "iids_test = df_test['vod_id'].tolist()\n",
        "values_test = list(df_test.rating)"
      ],
      "metadata": {
        "id": "pMqvGb1EXok2"
      },
      "execution_count": null,
      "outputs": []
    },
    {
      "cell_type": "code",
      "source": [
        "# test_interactions 생성\n",
        "cnt = 0\n",
        "for i in range(len(uids_test)):\n",
        "    test_interactions.iloc[uids_test[i], iids_test[i]] = 1"
      ],
      "metadata": {
        "id": "wx8BsyR_Xbzk"
      },
      "execution_count": null,
      "outputs": []
    },
    {
      "cell_type": "code",
      "source": [
        "# csr matrix\n",
        "from scipy.sparse import csr_matrix\n",
        "train_interactions = csr_matrix(train_interactions)\n",
        "test_interactions = csr_matrix(test_interactions)"
      ],
      "metadata": {
        "id": "f3HOVurXXylc"
      },
      "execution_count": null,
      "outputs": []
    },
    {
      "cell_type": "code",
      "source": [
        "print(train_interactions.shape)\n",
        "print(test_interactions.shape)"
      ],
      "metadata": {
        "colab": {
          "base_uri": "https://localhost:8080/"
        },
        "id": "mhIpKKpux2t8",
        "outputId": "43f4e7b4-0fa3-4afb-b8e8-ee21c58bd884"
      },
      "execution_count": null,
      "outputs": [
        {
          "output_type": "stream",
          "name": "stdout",
          "text": [
            "(924, 4786)\n",
            "(924, 4786)\n"
          ]
        }
      ]
    },
    {
      "cell_type": "markdown",
      "source": [
        "#### 모델 학습"
      ],
      "metadata": {
        "id": "Zgz3cKtQRa36"
      }
    },
    {
      "cell_type": "code",
      "source": [
        "# loss에 'bpr' Bayesian Personalized Ranking Loss 사용도 가능\n",
        "lfm2 = LightFM(loss='bpr', no_components=5, learning_rate=0.1, random_state=0)\n",
        "lfm2.fit(interactions=train_interactions, epochs=20, verbose=1)"
      ],
      "metadata": {
        "colab": {
          "base_uri": "https://localhost:8080/"
        },
        "outputId": "6ef85526-5906-4ed5-f0e1-2049a14986b6",
        "id": "8maj6YwVRa36"
      },
      "execution_count": null,
      "outputs": [
        {
          "output_type": "stream",
          "name": "stderr",
          "text": [
            "Epoch: 100%|██████████| 20/20 [00:00<00:00, 56.32it/s]\n"
          ]
        },
        {
          "output_type": "execute_result",
          "data": {
            "text/plain": [
              "<lightfm.lightfm.LightFM at 0x7e718ece09a0>"
            ]
          },
          "metadata": {},
          "execution_count": 159
        }
      ]
    },
    {
      "cell_type": "markdown",
      "source": [
        "#### 모델 Predict"
      ],
      "metadata": {
        "id": "J7xvhvUGRa36"
      }
    },
    {
      "cell_type": "code",
      "source": [
        "# LightFM 모델의 predict 값은 ranking의 목적일 뿐인 점을 유의해야 함\n"
      ],
      "metadata": {
        "id": "t16JJEnERa37"
      },
      "execution_count": null,
      "outputs": []
    },
    {
      "cell_type": "markdown",
      "source": [
        "#### 모델 평가"
      ],
      "metadata": {
        "id": "uFkfihxLRa37"
      }
    },
    {
      "cell_type": "code",
      "source": [
        "precision = precision_at_k(lfm2, test_interactions, train_interactions, k=10).mean()\n",
        "recall = recall_at_k(lfm2, test_interactions, train_interactions, k=10).mean()\n",
        "print('Precision@K: {:.3f}'.format(precision))\n",
        "print('Recall@K: {:.3f}'.format(recall))"
      ],
      "metadata": {
        "colab": {
          "base_uri": "https://localhost:8080/"
        },
        "outputId": "49f3e9fe-eb07-40f1-a5fc-fc1bdef3e653",
        "id": "zBqHB6KqRa37"
      },
      "execution_count": null,
      "outputs": [
        {
          "output_type": "stream",
          "name": "stdout",
          "text": [
            "Precision@K: 0.029\n",
            "Recall@K: 0.286\n"
          ]
        }
      ]
    },
    {
      "cell_type": "code",
      "source": [
        "precision = precision_at_k(lfm1, test_interactions, train_interactions, k=20).mean()\n",
        "recall = recall_at_k(lfm1, test_interactions, train_interactions, k=20).mean()\n",
        "print('Precision@K: {:.3f}'.format(precision))\n",
        "print('Recall@K: {:.3f}'.format(recall))"
      ],
      "metadata": {
        "colab": {
          "base_uri": "https://localhost:8080/"
        },
        "outputId": "513646fe-c470-4280-9e04-ff4d95612ac3",
        "id": "pdiiZlVSRa37"
      },
      "execution_count": null,
      "outputs": [
        {
          "output_type": "stream",
          "name": "stdout",
          "text": [
            "Precision@K: 0.001\n",
            "Recall@K: 0.015\n"
          ]
        }
      ]
    },
    {
      "cell_type": "code",
      "source": [],
      "metadata": {
        "id": "k7iEDm64zFxM"
      },
      "execution_count": null,
      "outputs": []
    },
    {
      "cell_type": "code",
      "source": [],
      "metadata": {
        "id": "oh14Ke3G65SL"
      },
      "execution_count": null,
      "outputs": []
    },
    {
      "cell_type": "markdown",
      "source": [
        "### Interaction 만 이용 (train/test 내장 메서드로 & interaction 대신 weights로 해보기)"
      ],
      "metadata": {
        "id": "6kMizAmm68K9"
      }
    },
    {
      "cell_type": "markdown",
      "source": [
        "#### LightFM 라이브러리 활용을 위한 데이터셋 준비"
      ],
      "metadata": {
        "id": "Pdl6LC8f68K-"
      }
    },
    {
      "cell_type": "code",
      "source": [
        "dataset = Dataset()\n",
        "dataset.fit(users = rating['user_id'],\n",
        "            items = rating['vod_id'])\n",
        "\n",
        "num_users, num_vods = dataset.interactions_shape()\n",
        "print(num_users) # Unique User = 924 명\n",
        "print(num_vods)  # Unique VOD = 4786 개"
      ],
      "metadata": {
        "colab": {
          "base_uri": "https://localhost:8080/"
        },
        "outputId": "4e6c280d-fa07-49a0-bbc5-879a252fca18",
        "id": "bkabkrRo68K_"
      },
      "execution_count": null,
      "outputs": [
        {
          "output_type": "stream",
          "name": "stdout",
          "text": [
            "924\n",
            "4786\n"
          ]
        }
      ]
    },
    {
      "cell_type": "code",
      "source": [
        "# interaction matrix 생성 -> csr matrix\n",
        "# weights는 평점 value가 있는 matrix고, interactions는 상호작용이 있으면 1 아니면 0으로 이루어진 matrix임\n",
        "# 둘 중 뭐로 학습해야 하는지?\n",
        "(interactions, weights) = dataset.build_interactions(rating.values)"
      ],
      "metadata": {
        "id": "k4qiMh0w68LA"
      },
      "execution_count": null,
      "outputs": []
    },
    {
      "cell_type": "code",
      "source": [
        "# train/test 분할\n",
        "# cross_validation.random_train_test_split 메서드가 존재함\n",
        "# test에 있는 user가 무조건 train에 존재하게끔 나눠지는 방법은 아니기에 cold-start 문제가 test set에서 발생 가능함 유의\n",
        "train_weights, test_weights = cross_validation.random_train_test_split(\n",
        "    weights, test_percentage=0.2,random_state=0)"
      ],
      "metadata": {
        "id": "Q4v87ED768LA"
      },
      "execution_count": null,
      "outputs": []
    },
    {
      "cell_type": "code",
      "source": [
        "print(train_weights.shape)\n",
        "print(test_weights.shape)"
      ],
      "metadata": {
        "colab": {
          "base_uri": "https://localhost:8080/"
        },
        "outputId": "7f4178f7-16fa-4187-95f8-d5eee4f84333",
        "id": "922gqrgr68LB"
      },
      "execution_count": null,
      "outputs": [
        {
          "output_type": "stream",
          "name": "stdout",
          "text": [
            "(924, 4786)\n",
            "(924, 4786)\n"
          ]
        }
      ]
    },
    {
      "cell_type": "markdown",
      "source": [
        "#### 모델 학습"
      ],
      "metadata": {
        "id": "LZKtctJ168LB"
      }
    },
    {
      "cell_type": "code",
      "source": [
        "# loss에 'bpr' Bayesian Personalized Ranking Loss 사용도 가능\n",
        "lfm1 = LightFM(loss='bpr', no_components=20, learning_rate=0.1, random_state=0)\n",
        "lfm1.fit(interactions=train_weights, epochs=20, verbose=1)"
      ],
      "metadata": {
        "colab": {
          "base_uri": "https://localhost:8080/"
        },
        "outputId": "b2a40e58-a81e-44f7-e1c9-acc9674f5e32",
        "id": "IYy6uhc_68LC"
      },
      "execution_count": null,
      "outputs": [
        {
          "output_type": "stream",
          "name": "stderr",
          "text": [
            "Epoch: 100%|██████████| 20/20 [00:00<00:00, 25.28it/s]\n"
          ]
        },
        {
          "output_type": "execute_result",
          "data": {
            "text/plain": [
              "<lightfm.lightfm.LightFM at 0x7e7198e72050>"
            ]
          },
          "metadata": {},
          "execution_count": 170
        }
      ]
    },
    {
      "cell_type": "markdown",
      "source": [
        "#### Test data 생성"
      ],
      "metadata": {
        "id": "PPP2Tnna68LC"
      }
    },
    {
      "cell_type": "code",
      "source": [],
      "metadata": {
        "id": "Qguwtcsx9uaS"
      },
      "execution_count": null,
      "outputs": []
    },
    {
      "cell_type": "markdown",
      "source": [
        "#### 모델 Predict"
      ],
      "metadata": {
        "id": "S0K3UzTu68LC"
      }
    },
    {
      "cell_type": "code",
      "source": [
        "# LightFM 모델의 predict 값은 ranking의 목적일 뿐인 점을 유의해야 함\n"
      ],
      "metadata": {
        "id": "SPMxOmuQ68LD"
      },
      "execution_count": null,
      "outputs": []
    },
    {
      "cell_type": "markdown",
      "source": [
        "#### 모델 평가"
      ],
      "metadata": {
        "id": "KppPx7-468LD"
      }
    },
    {
      "cell_type": "code",
      "source": [
        "precision = precision_at_k(lfm1, test_interactions, train_interactions, k=10).mean()\n",
        "recall = recall_at_k(lfm1, test_interactions, train_interactions, k=10).mean()\n",
        "print('Precision@K: {:.3f}'.format(precision))\n",
        "print('Recall@K: {:.3f}'.format(recall))"
      ],
      "metadata": {
        "colab": {
          "base_uri": "https://localhost:8080/"
        },
        "outputId": "61c0ec70-f98d-4179-bfba-50b0d9ff4137",
        "id": "rZfZr22T68LD"
      },
      "execution_count": null,
      "outputs": [
        {
          "output_type": "stream",
          "name": "stdout",
          "text": [
            "Precision@K: 0.001\n",
            "Recall@K: 0.006\n"
          ]
        }
      ]
    },
    {
      "cell_type": "code",
      "source": [
        "precision = precision_at_k(lfm1, test_interactions, train_interactions, k=20).mean()\n",
        "recall = recall_at_k(lfm1, test_interactions, train_interactions, k=20).mean()\n",
        "print('Precision@K: {:.3f}'.format(precision))\n",
        "print('Recall@K: {:.3f}'.format(recall))"
      ],
      "metadata": {
        "colab": {
          "base_uri": "https://localhost:8080/"
        },
        "outputId": "c40f874e-7832-427e-c698-143dd9c3986e",
        "id": "Z5nquFTl68LD"
      },
      "execution_count": null,
      "outputs": [
        {
          "output_type": "stream",
          "name": "stdout",
          "text": [
            "Precision@K: 0.001\n",
            "Recall@K: 0.015\n"
          ]
        }
      ]
    },
    {
      "cell_type": "markdown",
      "source": [
        "#### 유사한 Users. 유사한 Items"
      ],
      "metadata": {
        "id": "Ktn0V8iS68LE"
      }
    },
    {
      "cell_type": "code",
      "source": [],
      "metadata": {
        "id": "vrjhiJj868LE"
      },
      "execution_count": null,
      "outputs": []
    },
    {
      "cell_type": "code",
      "source": [],
      "metadata": {
        "id": "CPufAIbY96PN"
      },
      "execution_count": null,
      "outputs": []
    },
    {
      "cell_type": "markdown",
      "source": [
        "### Interaction 만 이용 (train/test 방식 다르게 & interaction 대신 weights로 해보기)"
      ],
      "metadata": {
        "id": "CQaU4bsN96bU"
      }
    },
    {
      "cell_type": "markdown",
      "source": [
        "#### LightFM 라이브러리 활용을 위한 데이터셋 준비"
      ],
      "metadata": {
        "id": "2_yEsPMe96bU"
      }
    },
    {
      "cell_type": "code",
      "source": [
        "# train_interactions의 shape과 test_interactions의 shape은 동일해야 함\n",
        "df_test = rating.copy()\n",
        "df_train = rating.copy()"
      ],
      "metadata": {
        "id": "KxuCMYJb96bV"
      },
      "execution_count": null,
      "outputs": []
    },
    {
      "cell_type": "code",
      "source": [
        "df_test = df_test.groupby('user_id').first().reset_index()"
      ],
      "metadata": {
        "id": "E9yI2tXv96bV"
      },
      "execution_count": null,
      "outputs": []
    },
    {
      "cell_type": "code",
      "source": [
        "def mask_first(x):\n",
        "    result = np.ones_like(x)\n",
        "    result[0] = 0\n",
        "    return result\n",
        "\n",
        "mask = rating.groupby(['user_id'])['user_id'].transform(mask_first).astype(bool)\n",
        "df_train = rating.loc[mask]"
      ],
      "metadata": {
        "id": "Z1kvM3Hz96bV"
      },
      "execution_count": null,
      "outputs": []
    },
    {
      "cell_type": "code",
      "source": [
        "# train user, item 리스트 생성\n",
        "uids = df_train['user_id'].tolist()\n",
        "iids = df_train['vod_id'].tolist()\n",
        "values = list(df_train.rating)"
      ],
      "metadata": {
        "id": "cbQc7pgU96bW"
      },
      "execution_count": null,
      "outputs": []
    },
    {
      "cell_type": "code",
      "source": [
        "train_weights = pd.DataFrame(np.zeros([num_users, num_vods]).astype(int))\n",
        "test_weights = pd.DataFrame(np.zeros([num_users, num_vods]).astype(int))"
      ],
      "metadata": {
        "id": "typ7uJ7M96bW"
      },
      "execution_count": null,
      "outputs": []
    },
    {
      "cell_type": "code",
      "source": [
        "# train_interactions 생성 - 돌아가는데 시간이 너무 오래걸림...\n",
        "cnt = 0\n",
        "for i in range(len(uids)):\n",
        "    train_weights.iloc[uids[i], iids[i]] = values[i]"
      ],
      "metadata": {
        "id": "ZNBKHqBn96bX"
      },
      "execution_count": null,
      "outputs": []
    },
    {
      "cell_type": "code",
      "source": [
        "# test user, item 리스트 생성\n",
        "uids_test = df_test['user_id'].tolist()\n",
        "iids_test = df_test['vod_id'].tolist()\n",
        "values_test = list(df_test.rating)"
      ],
      "metadata": {
        "id": "PcvahFun96bX"
      },
      "execution_count": null,
      "outputs": []
    },
    {
      "cell_type": "code",
      "source": [
        "# test_interactions 생성\n",
        "cnt = 0\n",
        "for i in range(len(uids_test)):\n",
        "    test_weights.iloc[uids_test[i], iids_test[i]] = values_test[i]"
      ],
      "metadata": {
        "id": "0NWg9RhH96bX"
      },
      "execution_count": null,
      "outputs": []
    },
    {
      "cell_type": "code",
      "source": [
        "# csr matrix\n",
        "from scipy.sparse import csr_matrix\n",
        "train_weights = csr_matrix(train_weights)\n",
        "test_weights = csr_matrix(test_weights)"
      ],
      "metadata": {
        "id": "bdD9Q2ye96bX"
      },
      "execution_count": null,
      "outputs": []
    },
    {
      "cell_type": "code",
      "source": [
        "print(train_weights.shape)\n",
        "print(test_weights.shape)"
      ],
      "metadata": {
        "colab": {
          "base_uri": "https://localhost:8080/"
        },
        "outputId": "ae295c57-3f1f-4e9e-e44e-6fe157ec52f3",
        "id": "-hh7WP0z96bY"
      },
      "execution_count": null,
      "outputs": [
        {
          "output_type": "stream",
          "name": "stdout",
          "text": [
            "(924, 4786)\n",
            "(924, 4786)\n"
          ]
        }
      ]
    },
    {
      "cell_type": "markdown",
      "source": [
        "#### 모델 학습"
      ],
      "metadata": {
        "id": "FkAVoIXT96bY"
      }
    },
    {
      "cell_type": "code",
      "source": [
        "# loss에 'bpr' Bayesian Personalized Ranking Loss 사용도 가능\n",
        "lfm2 = LightFM(loss='bpr', no_components=5, learning_rate=0.1, random_state=0)\n",
        "lfm2.fit(interactions=train_weights, epochs=20, verbose=1)"
      ],
      "metadata": {
        "colab": {
          "base_uri": "https://localhost:8080/"
        },
        "outputId": "15182832-7434-4815-ad33-709ff4418d6d",
        "id": "KMeEEzCW96bY"
      },
      "execution_count": null,
      "outputs": [
        {
          "output_type": "stream",
          "name": "stderr",
          "text": [
            "Epoch: 100%|██████████| 20/20 [00:00<00:00, 175.56it/s]\n"
          ]
        },
        {
          "output_type": "execute_result",
          "data": {
            "text/plain": [
              "<lightfm.lightfm.LightFM at 0x7e71998659f0>"
            ]
          },
          "metadata": {},
          "execution_count": 195
        }
      ]
    },
    {
      "cell_type": "markdown",
      "source": [
        "#### 모델 Predict"
      ],
      "metadata": {
        "id": "8z3CChfA96bZ"
      }
    },
    {
      "cell_type": "code",
      "source": [
        "# LightFM 모델의 predict 값은 ranking의 목적일 뿐인 점을 유의해야 함\n"
      ],
      "metadata": {
        "id": "PphjuHPa96bZ"
      },
      "execution_count": null,
      "outputs": []
    },
    {
      "cell_type": "markdown",
      "source": [
        "#### 모델 평가"
      ],
      "metadata": {
        "id": "PSzDEHVQ96bZ"
      }
    },
    {
      "cell_type": "code",
      "source": [
        "precision = precision_at_k(lfm2, test_weights, train_weights, k=10).mean()\n",
        "recall = recall_at_k(lfm2, test_weights, train_weights, k=10).mean()\n",
        "print('Precision@K: {:.3f}'.format(precision))\n",
        "print('Recall@K: {:.3f}'.format(recall))"
      ],
      "metadata": {
        "colab": {
          "base_uri": "https://localhost:8080/"
        },
        "outputId": "6dd832dc-1e5e-4da1-e753-c0d7e1d6432d",
        "id": "Ndix_3Y096ba"
      },
      "execution_count": null,
      "outputs": [
        {
          "output_type": "stream",
          "name": "stdout",
          "text": [
            "Precision@K: 0.029\n",
            "Recall@K: 0.286\n"
          ]
        }
      ]
    },
    {
      "cell_type": "code",
      "source": [
        "precision = precision_at_k(lfm1, test_weights, train_weights, k=20).mean()\n",
        "recall = recall_at_k(lfm1, test_weights, train_weights, k=20).mean()\n",
        "print('Precision@K: {:.3f}'.format(precision))\n",
        "print('Recall@K: {:.3f}'.format(recall))"
      ],
      "metadata": {
        "colab": {
          "base_uri": "https://localhost:8080/"
        },
        "outputId": "8c114543-844f-42af-9909-86cada997954",
        "id": "de84zpB-96ba"
      },
      "execution_count": null,
      "outputs": [
        {
          "output_type": "stream",
          "name": "stdout",
          "text": [
            "Precision@K: 0.001\n",
            "Recall@K: 0.015\n"
          ]
        }
      ]
    },
    {
      "cell_type": "markdown",
      "source": [
        "### Interactions + Features (train/test 내장 메서드로)"
      ],
      "metadata": {
        "id": "6TGxkIWXDGTQ"
      }
    },
    {
      "cell_type": "code",
      "source": [
        "# rating에 vod 붙이기\n",
        "vod_genre = rating.merge(vod_meta, how='left', left_on='vod_id', right_on='vod_id')['ct_cl'].tolist()"
      ],
      "metadata": {
        "id": "wpEpjhaRLpAb"
      },
      "execution_count": null,
      "outputs": []
    },
    {
      "cell_type": "code",
      "source": [
        "# vod meta 데이터 준비\n",
        "all_vod_genre = vod_meta['ct_cl'].unique().tolist()"
      ],
      "metadata": {
        "id": "u_oKzMbgDNUX"
      },
      "execution_count": null,
      "outputs": []
    },
    {
      "cell_type": "code",
      "source": [
        "# user meta 데이터\n",
        "# 아직은 쓸 게 없음"
      ],
      "metadata": {
        "id": "b9guyOyNJjMZ"
      },
      "execution_count": null,
      "outputs": []
    },
    {
      "cell_type": "code",
      "source": [
        "dataset2 = Dataset()\n",
        "dataset2.fit(users = rating['user_id'],\n",
        "            items = rating['vod_id'],\n",
        "            item_features=all_vod_genre)\n",
        "\n",
        "num_users, num_vods = dataset.interactions_shape()\n",
        "print(num_users) # Unique User = 924 명\n",
        "print(num_vods)  # Unique VOD = 4786 개"
      ],
      "metadata": {
        "colab": {
          "base_uri": "https://localhost:8080/"
        },
        "id": "8YOzjNkYJfb2",
        "outputId": "b1ba7e10-12b9-4800-ad38-5329d0cb89ac"
      },
      "execution_count": null,
      "outputs": [
        {
          "output_type": "stream",
          "name": "stdout",
          "text": [
            "924\n",
            "4786\n"
          ]
        }
      ]
    },
    {
      "cell_type": "code",
      "source": [
        "# item_features_source: [(item1, [feature, feature, ...]), (item2, [feature, feature, ...])] 형태로 만들기\n",
        "# item_features_source = [(x, [y]) for x,y in zip(vod_meta['vod_id'], vod_meta['ct_cl])] # 이게 맞는지 밑에가 맞는지 모르겠음\n",
        "\n",
        "item_features = dataset2.build_item_features((x, [y]) for x,y in zip(rating.vod_id, vod_genre))"
      ],
      "metadata": {
        "id": "yM4qvpYgLHPk"
      },
      "execution_count": null,
      "outputs": []
    },
    {
      "cell_type": "code",
      "source": [
        "(interactions, weights) = dataset2.build_interactions(rating.values)"
      ],
      "metadata": {
        "id": "Adh9IkNdQFZ_"
      },
      "execution_count": null,
      "outputs": []
    },
    {
      "cell_type": "code",
      "source": [
        "train_interactions, test_interactions = cross_validation.random_train_test_split(\n",
        "    interactions, test_percentage=0.2,random_state=0)"
      ],
      "metadata": {
        "id": "AlKxISveQVeR"
      },
      "execution_count": null,
      "outputs": []
    },
    {
      "cell_type": "code",
      "source": [
        "# 넣어도 되고, 안넣어도 학습되는 듯 - 이것도 선택지\n",
        "train_weights = train_interactions.multiply(weights).tocoo()"
      ],
      "metadata": {
        "id": "5ZKpirusRKro"
      },
      "execution_count": null,
      "outputs": []
    },
    {
      "cell_type": "code",
      "source": [
        "lfm3 = LightFM(loss='bpr', no_components=20, learning_rate=0.1, random_state=0)\n",
        "lfm3.fit(interactions=train_interactions,\n",
        "         item_features=item_features,\n",
        "         epochs=20, verbose=1)\n",
        "\n",
        "# regularisation for both user and item features\n",
        "# ITEM_ALPHA = 1e-6\n",
        "# USER_ALPHA = 1e-6\n",
        "\n",
        "# sample_weight 추가했더니 오류 발생함"
      ],
      "metadata": {
        "colab": {
          "base_uri": "https://localhost:8080/"
        },
        "id": "rQz5MDFGQgI2",
        "outputId": "997472f8-4357-4853-98ae-0a99d508ef3b"
      },
      "execution_count": null,
      "outputs": [
        {
          "output_type": "stream",
          "name": "stderr",
          "text": [
            "Epoch: 100%|██████████| 20/20 [00:00<00:00, 66.10it/s]\n"
          ]
        },
        {
          "output_type": "execute_result",
          "data": {
            "text/plain": [
              "<lightfm.lightfm.LightFM at 0x7e718eaad2a0>"
            ]
          },
          "metadata": {},
          "execution_count": 252
        }
      ]
    },
    {
      "cell_type": "code",
      "source": [
        "precision = precision_at_k(lfm3, test_interactions, train_interactions, k=10,\n",
        "                           item_features=item_features).mean()\n",
        "recall = recall_at_k(lfm3, test_interactions, train_interactions, k=10,\n",
        "                      item_features=item_features).mean()\n",
        "print('Precision@K: {:.3f}'.format(precision))\n",
        "print('Recall@K: {:.3f}'.format(recall))"
      ],
      "metadata": {
        "colab": {
          "base_uri": "https://localhost:8080/"
        },
        "id": "mSgFMmJTRKtz",
        "outputId": "cfd65d3f-c790-4550-bd59-ce888cbac469"
      },
      "execution_count": null,
      "outputs": [
        {
          "output_type": "stream",
          "name": "stdout",
          "text": [
            "Precision@K: 0.044\n",
            "Recall@K: 0.223\n"
          ]
        }
      ]
    },
    {
      "cell_type": "code",
      "source": [
        "precision = precision_at_k(lfm3, test_interactions, train_interactions, k=20,\n",
        "                           item_features=item_features).mean()\n",
        "recall = recall_at_k(lfm3, test_interactions, train_interactions, k=20,\n",
        "                      item_features=item_features).mean()\n",
        "print('Precision@K: {:.3f}'.format(precision))\n",
        "print('Recall@K: {:.3f}'.format(recall))"
      ],
      "metadata": {
        "colab": {
          "base_uri": "https://localhost:8080/"
        },
        "id": "6KCb94AkSMl8",
        "outputId": "a995e5d9-1e1b-4e61-d6e5-63d85e22afc3"
      },
      "execution_count": null,
      "outputs": [
        {
          "output_type": "stream",
          "name": "stdout",
          "text": [
            "Precision@K: 0.033\n",
            "Recall@K: 0.294\n"
          ]
        }
      ]
    },
    {
      "cell_type": "markdown",
      "source": [
        "#### similar vod 정보"
      ],
      "metadata": {
        "id": "Yz_C6V84StUI"
      }
    },
    {
      "cell_type": "code",
      "source": [
        "_, item_embeddings = lfm3.get_item_representations(features=item_features)\n",
        "item_embeddings"
      ],
      "metadata": {
        "colab": {
          "base_uri": "https://localhost:8080/"
        },
        "id": "mMuPdYNUYKZj",
        "outputId": "265193a6-bd7f-4a4a-8bbd-4473bb4d1f5c"
      },
      "execution_count": null,
      "outputs": [
        {
          "output_type": "execute_result",
          "data": {
            "text/plain": [
              "array([[ 0.11256789, -0.88921595,  0.14866894, ..., -0.531572  ,\n",
              "         0.5125935 , -0.00314356],\n",
              "       [ 0.21481277, -1.6982783 ,  0.27543464, ..., -1.0243443 ,\n",
              "         0.9599098 , -0.01862909],\n",
              "       [ 0.17749786, -1.5340897 ,  0.25952747, ..., -0.9181824 ,\n",
              "         0.84524965,  0.01713548],\n",
              "       ...,\n",
              "       [ 0.8151699 ,  0.70727396,  0.07004264, ..., -0.05289529,\n",
              "        -0.0454418 , -0.0424279 ],\n",
              "       [ 0.912986  ,  0.7317201 ,  0.03545414, ..., -0.12244309,\n",
              "         0.07769467, -0.24660546],\n",
              "       [ 0.8106697 ,  0.7073496 ,  0.06729263, ..., -0.03220104,\n",
              "        -0.04631758, -0.03425556]], dtype=float32)"
            ]
          },
          "metadata": {},
          "execution_count": 255
        }
      ]
    },
    {
      "cell_type": "code",
      "source": [
        "def make_best_items_report(item_embeddings, vod_id, num_search_items=10):\n",
        "    item_id = vod_id\n",
        "\n",
        "    # Cosine similarity\n",
        "    scores = item_embeddings.dot(item_embeddings[item_id])\n",
        "    item_norms = np.linalg.norm(item_embeddings, axis=1)\n",
        "    item_norms[item_norms == 0] = 1e-10\n",
        "    scores /= item_norms\n",
        "\n",
        "    # best: score가 제일 높은 item의 id를 num_search_items 개 만큼 가져온다.\n",
        "    best = np.argpartition(scores, -num_search_items)[-num_search_items:]\n",
        "    similar_item_id_and_scores = sorted(zip(best, scores[best] / item_norms[item_id]),\n",
        "                                        key=lambda x: -x[1])\n",
        "\n",
        "    # Report를 작성할 pandas dataframe\n",
        "    best_items = pd.DataFrame(columns=['vod_id', 'ct_cl', 'score'])\n",
        "\n",
        "    for similar_item_id, score in similar_item_id_and_scores:\n",
        "        vod_id = similar_item_id\n",
        "        #title = vod_meta[vod_meta['vod_id'] == vod_id][['']]\n",
        "        ct_cl = vod_meta[vod_meta['vod_id']==vod_id][0][2]\n",
        "\n",
        "        row = pd.Series([vod_id, ct_cl, score], index=best_items.columns)\n",
        "        best_items = best_items.append(row, ignore_index=True)\n",
        "    return best_items"
      ],
      "metadata": {
        "id": "X2JnaIfZYUXv"
      },
      "execution_count": null,
      "outputs": []
    },
    {
      "cell_type": "code",
      "source": [
        "# 오류 고쳐야 함\n",
        "make_best_items_report(item_embeddings, 0, 10)"
      ],
      "metadata": {
        "colab": {
          "base_uri": "https://localhost:8080/",
          "height": 924
        },
        "id": "iChEGi5KZ_n_",
        "outputId": "449575f4-f945-423b-95e4-33ad63add389"
      },
      "execution_count": null,
      "outputs": [
        {
          "output_type": "error",
          "ename": "KeyError",
          "evalue": "ignored",
          "traceback": [
            "\u001b[0;31m---------------------------------------------------------------------------\u001b[0m",
            "\u001b[0;31mKeyError\u001b[0m                                  Traceback (most recent call last)",
            "\u001b[0;32m/usr/local/lib/python3.10/dist-packages/pandas/core/indexes/base.py\u001b[0m in \u001b[0;36mget_loc\u001b[0;34m(self, key, method, tolerance)\u001b[0m\n\u001b[1;32m   3801\u001b[0m             \u001b[0;32mtry\u001b[0m\u001b[0;34m:\u001b[0m\u001b[0;34m\u001b[0m\u001b[0;34m\u001b[0m\u001b[0m\n\u001b[0;32m-> 3802\u001b[0;31m                 \u001b[0;32mreturn\u001b[0m \u001b[0mself\u001b[0m\u001b[0;34m.\u001b[0m\u001b[0m_engine\u001b[0m\u001b[0;34m.\u001b[0m\u001b[0mget_loc\u001b[0m\u001b[0;34m(\u001b[0m\u001b[0mcasted_key\u001b[0m\u001b[0;34m)\u001b[0m\u001b[0;34m\u001b[0m\u001b[0;34m\u001b[0m\u001b[0m\n\u001b[0m\u001b[1;32m   3803\u001b[0m             \u001b[0;32mexcept\u001b[0m \u001b[0mKeyError\u001b[0m \u001b[0;32mas\u001b[0m \u001b[0merr\u001b[0m\u001b[0;34m:\u001b[0m\u001b[0;34m\u001b[0m\u001b[0;34m\u001b[0m\u001b[0m\n",
            "\u001b[0;32m/usr/local/lib/python3.10/dist-packages/pandas/_libs/index.pyx\u001b[0m in \u001b[0;36mpandas._libs.index.IndexEngine.get_loc\u001b[0;34m()\u001b[0m\n",
            "\u001b[0;32m/usr/local/lib/python3.10/dist-packages/pandas/_libs/index.pyx\u001b[0m in \u001b[0;36mpandas._libs.index.IndexEngine.get_loc\u001b[0;34m()\u001b[0m\n",
            "\u001b[0;32mpandas/_libs/hashtable_class_helper.pxi\u001b[0m in \u001b[0;36mpandas._libs.hashtable.PyObjectHashTable.get_item\u001b[0;34m()\u001b[0m\n",
            "\u001b[0;32mpandas/_libs/hashtable_class_helper.pxi\u001b[0m in \u001b[0;36mpandas._libs.hashtable.PyObjectHashTable.get_item\u001b[0;34m()\u001b[0m\n",
            "\u001b[0;31mKeyError\u001b[0m: 0",
            "\nThe above exception was the direct cause of the following exception:\n",
            "\u001b[0;31mKeyError\u001b[0m                                  Traceback (most recent call last)",
            "\u001b[0;32m<ipython-input-276-13fc04b2a704>\u001b[0m in \u001b[0;36m<cell line: 1>\u001b[0;34m()\u001b[0m\n\u001b[0;32m----> 1\u001b[0;31m \u001b[0mmake_best_items_report\u001b[0m\u001b[0;34m(\u001b[0m\u001b[0mitem_embeddings\u001b[0m\u001b[0;34m,\u001b[0m \u001b[0;36m0\u001b[0m\u001b[0;34m,\u001b[0m \u001b[0;36m10\u001b[0m\u001b[0;34m)\u001b[0m\u001b[0;34m\u001b[0m\u001b[0;34m\u001b[0m\u001b[0m\n\u001b[0m",
            "\u001b[0;32m<ipython-input-275-73685f995e19>\u001b[0m in \u001b[0;36mmake_best_items_report\u001b[0;34m(item_embeddings, vod_id, num_search_items)\u001b[0m\n\u001b[1;32m     19\u001b[0m         \u001b[0mvod_id\u001b[0m \u001b[0;34m=\u001b[0m \u001b[0msimilar_item_id\u001b[0m\u001b[0;34m\u001b[0m\u001b[0;34m\u001b[0m\u001b[0m\n\u001b[1;32m     20\u001b[0m         \u001b[0;31m#title = vod_meta[vod_meta['vod_id'] == vod_id][['']]\u001b[0m\u001b[0;34m\u001b[0m\u001b[0;34m\u001b[0m\u001b[0m\n\u001b[0;32m---> 21\u001b[0;31m         \u001b[0mct_cl\u001b[0m \u001b[0;34m=\u001b[0m \u001b[0mvod_meta\u001b[0m\u001b[0;34m[\u001b[0m\u001b[0mvod_meta\u001b[0m\u001b[0;34m[\u001b[0m\u001b[0;34m'vod_id'\u001b[0m\u001b[0;34m]\u001b[0m\u001b[0;34m==\u001b[0m\u001b[0mvod_id\u001b[0m\u001b[0;34m]\u001b[0m\u001b[0;34m[\u001b[0m\u001b[0;36m0\u001b[0m\u001b[0;34m]\u001b[0m\u001b[0;34m[\u001b[0m\u001b[0;36m2\u001b[0m\u001b[0;34m]\u001b[0m\u001b[0;34m\u001b[0m\u001b[0;34m\u001b[0m\u001b[0m\n\u001b[0m\u001b[1;32m     22\u001b[0m \u001b[0;34m\u001b[0m\u001b[0m\n\u001b[1;32m     23\u001b[0m         \u001b[0mrow\u001b[0m \u001b[0;34m=\u001b[0m \u001b[0mpd\u001b[0m\u001b[0;34m.\u001b[0m\u001b[0mSeries\u001b[0m\u001b[0;34m(\u001b[0m\u001b[0;34m[\u001b[0m\u001b[0mvod_id\u001b[0m\u001b[0;34m,\u001b[0m \u001b[0mct_cl\u001b[0m\u001b[0;34m,\u001b[0m \u001b[0mscore\u001b[0m\u001b[0;34m]\u001b[0m\u001b[0;34m,\u001b[0m \u001b[0mindex\u001b[0m\u001b[0;34m=\u001b[0m\u001b[0mbest_items\u001b[0m\u001b[0;34m.\u001b[0m\u001b[0mcolumns\u001b[0m\u001b[0;34m)\u001b[0m\u001b[0;34m\u001b[0m\u001b[0;34m\u001b[0m\u001b[0m\n",
            "\u001b[0;32m/usr/local/lib/python3.10/dist-packages/pandas/core/frame.py\u001b[0m in \u001b[0;36m__getitem__\u001b[0;34m(self, key)\u001b[0m\n\u001b[1;32m   3805\u001b[0m             \u001b[0;32mif\u001b[0m \u001b[0mself\u001b[0m\u001b[0;34m.\u001b[0m\u001b[0mcolumns\u001b[0m\u001b[0;34m.\u001b[0m\u001b[0mnlevels\u001b[0m \u001b[0;34m>\u001b[0m \u001b[0;36m1\u001b[0m\u001b[0;34m:\u001b[0m\u001b[0;34m\u001b[0m\u001b[0;34m\u001b[0m\u001b[0m\n\u001b[1;32m   3806\u001b[0m                 \u001b[0;32mreturn\u001b[0m \u001b[0mself\u001b[0m\u001b[0;34m.\u001b[0m\u001b[0m_getitem_multilevel\u001b[0m\u001b[0;34m(\u001b[0m\u001b[0mkey\u001b[0m\u001b[0;34m)\u001b[0m\u001b[0;34m\u001b[0m\u001b[0;34m\u001b[0m\u001b[0m\n\u001b[0;32m-> 3807\u001b[0;31m             \u001b[0mindexer\u001b[0m \u001b[0;34m=\u001b[0m \u001b[0mself\u001b[0m\u001b[0;34m.\u001b[0m\u001b[0mcolumns\u001b[0m\u001b[0;34m.\u001b[0m\u001b[0mget_loc\u001b[0m\u001b[0;34m(\u001b[0m\u001b[0mkey\u001b[0m\u001b[0;34m)\u001b[0m\u001b[0;34m\u001b[0m\u001b[0;34m\u001b[0m\u001b[0m\n\u001b[0m\u001b[1;32m   3808\u001b[0m             \u001b[0;32mif\u001b[0m \u001b[0mis_integer\u001b[0m\u001b[0;34m(\u001b[0m\u001b[0mindexer\u001b[0m\u001b[0;34m)\u001b[0m\u001b[0;34m:\u001b[0m\u001b[0;34m\u001b[0m\u001b[0;34m\u001b[0m\u001b[0m\n\u001b[1;32m   3809\u001b[0m                 \u001b[0mindexer\u001b[0m \u001b[0;34m=\u001b[0m \u001b[0;34m[\u001b[0m\u001b[0mindexer\u001b[0m\u001b[0;34m]\u001b[0m\u001b[0;34m\u001b[0m\u001b[0;34m\u001b[0m\u001b[0m\n",
            "\u001b[0;32m/usr/local/lib/python3.10/dist-packages/pandas/core/indexes/base.py\u001b[0m in \u001b[0;36mget_loc\u001b[0;34m(self, key, method, tolerance)\u001b[0m\n\u001b[1;32m   3802\u001b[0m                 \u001b[0;32mreturn\u001b[0m \u001b[0mself\u001b[0m\u001b[0;34m.\u001b[0m\u001b[0m_engine\u001b[0m\u001b[0;34m.\u001b[0m\u001b[0mget_loc\u001b[0m\u001b[0;34m(\u001b[0m\u001b[0mcasted_key\u001b[0m\u001b[0;34m)\u001b[0m\u001b[0;34m\u001b[0m\u001b[0;34m\u001b[0m\u001b[0m\n\u001b[1;32m   3803\u001b[0m             \u001b[0;32mexcept\u001b[0m \u001b[0mKeyError\u001b[0m \u001b[0;32mas\u001b[0m \u001b[0merr\u001b[0m\u001b[0;34m:\u001b[0m\u001b[0;34m\u001b[0m\u001b[0;34m\u001b[0m\u001b[0m\n\u001b[0;32m-> 3804\u001b[0;31m                 \u001b[0;32mraise\u001b[0m \u001b[0mKeyError\u001b[0m\u001b[0;34m(\u001b[0m\u001b[0mkey\u001b[0m\u001b[0;34m)\u001b[0m \u001b[0;32mfrom\u001b[0m \u001b[0merr\u001b[0m\u001b[0;34m\u001b[0m\u001b[0;34m\u001b[0m\u001b[0m\n\u001b[0m\u001b[1;32m   3805\u001b[0m             \u001b[0;32mexcept\u001b[0m \u001b[0mTypeError\u001b[0m\u001b[0;34m:\u001b[0m\u001b[0;34m\u001b[0m\u001b[0;34m\u001b[0m\u001b[0m\n\u001b[1;32m   3806\u001b[0m                 \u001b[0;31m# If we have a listlike key, _check_indexing_error will raise\u001b[0m\u001b[0;34m\u001b[0m\u001b[0;34m\u001b[0m\u001b[0m\n",
            "\u001b[0;31mKeyError\u001b[0m: 0"
          ]
        }
      ]
    },
    {
      "cell_type": "markdown",
      "source": [
        "## Neural CF"
      ],
      "metadata": {
        "id": "5Sq_FJSjaEka"
      }
    },
    {
      "cell_type": "markdown",
      "source": [
        "### 참고 코드로 레이어 연결 구조 이해하기"
      ],
      "metadata": {
        "id": "bN_ThQdl0hCm"
      }
    },
    {
      "cell_type": "code",
      "source": [
        "class NCF(torch.nn.Module):\n",
        "    def __init__(self, config):\n",
        "        super().__init__()\n",
        "        self.config = config\n",
        "\n",
        "        self.num_users = config[\"num_users\"] # Input Layer shape 구성을 위해\n",
        "        self.num_items = config[\"num_items\"] # Input Layer shape 구성을 위해\n",
        "        self.latent_dim_mf = config[\"latent_dim_mf\"]  # GMF 의 임베딩 차원\n",
        "        self.latent_dim_mlp = config[\"latent_dim_mlp\"]  # MLP 의 임베딩 차원\n",
        "\n",
        "        # Input - 서로 다른 MLP와 GMF Embedding Layer 사용\n",
        "        self.embedding_user_mlp = torch.nn.Embedding(num_embeddings=self.num_users, embedding_dim=self.latent_dim_mlp)\n",
        "        self.embedding_item_mlp = torch.nn.Embedding(num_embeddings=self.num_items, embedding_dim=self.latent_dim_mlp)\n",
        "        self.embedding_user_mf = torch.nn.Embedding(num_embeddings=self.num_users, embedding_dim=self.latent_dim_mf)\n",
        "        self.embedding_item_mf = torch.nn.Embedding(num_embeddings=self.num_items, embedding_dim=self.latent_dim_mf)\n",
        "\n",
        "        # Layer - FC Layer 구성\n",
        "        self.fc_layers = torch.nn.ModuleList()\n",
        "        for idx, (in_size, out_size) in enumerate(zip(config[\"layers\"][:-1], config[\"layers\"][1:])):\n",
        "            self.fc_layers.append(torch.nn.Linear(in_size, out_size))\n",
        "\n",
        "        # Output\n",
        "        self.last_layer = torch.nn.Linear(in_features=(config[\"layers\"][-1] + self.latent_dim_mf), out_features=1)\n",
        "        self.output_layer = torch.nn.Sigmoid() # Sigmoid\n",
        "\n",
        "    def forward(self, user_indices, item_indices):\n",
        "        # Input Embedding Layer 준비\n",
        "        user_embedding_mlp = self.embedding_user_mlp(user_indices)\n",
        "        item_embedding_mlp = self.embedding_item_mlp(item_indices)\n",
        "        user_embedding_mf = self.embedding_user_mf(user_indices)\n",
        "        item_embedding_mf = self.embedding_item_mf(item_indices)\n",
        "\n",
        "        # GMF Layer에서 앞서 Embedding한 MF Latent Vector를 내적\n",
        "        gmf_layer = torch.mul(user_embedding_mf, item_embedding_mf)\n",
        "\n",
        "        # MLP - User, Item Input 벡터 Concatenate\n",
        "        mlp_concat_layer = torch.cat([user_embedding_mlp, item_embedding_mlp], dim=-1)\n",
        "        # MLP - FC Layer 통과\n",
        "        for idx in range(len(self.fc_layers)):\n",
        "            mlp_concat_layer = self.fc_layers[idx](mlp_concat_layer)\n",
        "            mlp_concat_layer = torch.nn.ReLU()(mlp_concat_layer)\n",
        "\n",
        "        # Concatenate - GMF Layer 출력값과 FC Layer 마지막 출력값 Concatenate 해서 최종 Output 값으로 연결\n",
        "        neu_mf_layer = torch.cat([gmf_layer, mlp_concat_layer], dim=-1)\n",
        "\n",
        "        # Output\n",
        "        return self.output_layer(self.last_layer(neu_mf_layer)).view(-1)"
      ],
      "metadata": {
        "id": "rSBXsMTJvMuN"
      },
      "execution_count": null,
      "outputs": []
    },
    {
      "cell_type": "markdown",
      "source": [
        "### Keras 코드 짜기\n",
        "\n"
      ],
      "metadata": {
        "id": "8pqjK0r0fgJ9"
      }
    },
    {
      "cell_type": "code",
      "source": [
        "# 위 코드를 거쳐서 단순히 구하려면 userID, ItemID, Rating(0 또는 1) 컬럼이 포함된 DataSet 이 준비되어 있어야 함\n",
        "vod_info = pd.read_pickle('/content/drive/MyDrive/DXSCHOOL/Project/vod_info_1116.pkl')\n",
        "user_id = pd.read_pickle('/content/drive/MyDrive/DXSCHOOL/Project/user_id_1116.pkl')\n",
        "rating_data = pd.read_pickle('/content/drive/MyDrive/DXSCHOOL/Project/rating_data_1116.pkl')"
      ],
      "metadata": {
        "id": "AqjZU_Cm2NZQ"
      },
      "execution_count": 68,
      "outputs": []
    },
    {
      "cell_type": "code",
      "source": [
        "df"
      ],
      "metadata": {
        "colab": {
          "base_uri": "https://localhost:8080/",
          "height": 424
        },
        "id": "ir_-CT5-Ctp2",
        "outputId": "ac166883-36cf-4498-c238-025864b9a9b3"
      },
      "execution_count": 72,
      "outputs": [
        {
          "output_type": "execute_result",
          "data": {
            "text/plain": [
              "       user_id  vod_id  rating\n",
              "0          810       0       1\n",
              "1          280    4768       1\n",
              "2          122    4768       1\n",
              "3          380    4768       1\n",
              "4          648    4768       1\n",
              "...        ...     ...     ...\n",
              "10355      661     706       0\n",
              "10356      661    4706       0\n",
              "10357      661    4707       0\n",
              "10358      420    4708       0\n",
              "10359      661    4709       0\n",
              "\n",
              "[10360 rows x 3 columns]"
            ],
            "text/html": [
              "\n",
              "  <div id=\"df-cb0cb03f-470d-4974-80a1-cfc6bc903969\" class=\"colab-df-container\">\n",
              "    <div>\n",
              "<style scoped>\n",
              "    .dataframe tbody tr th:only-of-type {\n",
              "        vertical-align: middle;\n",
              "    }\n",
              "\n",
              "    .dataframe tbody tr th {\n",
              "        vertical-align: top;\n",
              "    }\n",
              "\n",
              "    .dataframe thead th {\n",
              "        text-align: right;\n",
              "    }\n",
              "</style>\n",
              "<table border=\"1\" class=\"dataframe\">\n",
              "  <thead>\n",
              "    <tr style=\"text-align: right;\">\n",
              "      <th></th>\n",
              "      <th>user_id</th>\n",
              "      <th>vod_id</th>\n",
              "      <th>rating</th>\n",
              "    </tr>\n",
              "  </thead>\n",
              "  <tbody>\n",
              "    <tr>\n",
              "      <th>0</th>\n",
              "      <td>810</td>\n",
              "      <td>0</td>\n",
              "      <td>1</td>\n",
              "    </tr>\n",
              "    <tr>\n",
              "      <th>1</th>\n",
              "      <td>280</td>\n",
              "      <td>4768</td>\n",
              "      <td>1</td>\n",
              "    </tr>\n",
              "    <tr>\n",
              "      <th>2</th>\n",
              "      <td>122</td>\n",
              "      <td>4768</td>\n",
              "      <td>1</td>\n",
              "    </tr>\n",
              "    <tr>\n",
              "      <th>3</th>\n",
              "      <td>380</td>\n",
              "      <td>4768</td>\n",
              "      <td>1</td>\n",
              "    </tr>\n",
              "    <tr>\n",
              "      <th>4</th>\n",
              "      <td>648</td>\n",
              "      <td>4768</td>\n",
              "      <td>1</td>\n",
              "    </tr>\n",
              "    <tr>\n",
              "      <th>...</th>\n",
              "      <td>...</td>\n",
              "      <td>...</td>\n",
              "      <td>...</td>\n",
              "    </tr>\n",
              "    <tr>\n",
              "      <th>10355</th>\n",
              "      <td>661</td>\n",
              "      <td>706</td>\n",
              "      <td>0</td>\n",
              "    </tr>\n",
              "    <tr>\n",
              "      <th>10356</th>\n",
              "      <td>661</td>\n",
              "      <td>4706</td>\n",
              "      <td>0</td>\n",
              "    </tr>\n",
              "    <tr>\n",
              "      <th>10357</th>\n",
              "      <td>661</td>\n",
              "      <td>4707</td>\n",
              "      <td>0</td>\n",
              "    </tr>\n",
              "    <tr>\n",
              "      <th>10358</th>\n",
              "      <td>420</td>\n",
              "      <td>4708</td>\n",
              "      <td>0</td>\n",
              "    </tr>\n",
              "    <tr>\n",
              "      <th>10359</th>\n",
              "      <td>661</td>\n",
              "      <td>4709</td>\n",
              "      <td>0</td>\n",
              "    </tr>\n",
              "  </tbody>\n",
              "</table>\n",
              "<p>10360 rows × 3 columns</p>\n",
              "</div>\n",
              "    <div class=\"colab-df-buttons\">\n",
              "\n",
              "  <div class=\"colab-df-container\">\n",
              "    <button class=\"colab-df-convert\" onclick=\"convertToInteractive('df-cb0cb03f-470d-4974-80a1-cfc6bc903969')\"\n",
              "            title=\"Convert this dataframe to an interactive table.\"\n",
              "            style=\"display:none;\">\n",
              "\n",
              "  <svg xmlns=\"http://www.w3.org/2000/svg\" height=\"24px\" viewBox=\"0 -960 960 960\">\n",
              "    <path d=\"M120-120v-720h720v720H120Zm60-500h600v-160H180v160Zm220 220h160v-160H400v160Zm0 220h160v-160H400v160ZM180-400h160v-160H180v160Zm440 0h160v-160H620v160ZM180-180h160v-160H180v160Zm440 0h160v-160H620v160Z\"/>\n",
              "  </svg>\n",
              "    </button>\n",
              "\n",
              "  <style>\n",
              "    .colab-df-container {\n",
              "      display:flex;\n",
              "      gap: 12px;\n",
              "    }\n",
              "\n",
              "    .colab-df-convert {\n",
              "      background-color: #E8F0FE;\n",
              "      border: none;\n",
              "      border-radius: 50%;\n",
              "      cursor: pointer;\n",
              "      display: none;\n",
              "      fill: #1967D2;\n",
              "      height: 32px;\n",
              "      padding: 0 0 0 0;\n",
              "      width: 32px;\n",
              "    }\n",
              "\n",
              "    .colab-df-convert:hover {\n",
              "      background-color: #E2EBFA;\n",
              "      box-shadow: 0px 1px 2px rgba(60, 64, 67, 0.3), 0px 1px 3px 1px rgba(60, 64, 67, 0.15);\n",
              "      fill: #174EA6;\n",
              "    }\n",
              "\n",
              "    .colab-df-buttons div {\n",
              "      margin-bottom: 4px;\n",
              "    }\n",
              "\n",
              "    [theme=dark] .colab-df-convert {\n",
              "      background-color: #3B4455;\n",
              "      fill: #D2E3FC;\n",
              "    }\n",
              "\n",
              "    [theme=dark] .colab-df-convert:hover {\n",
              "      background-color: #434B5C;\n",
              "      box-shadow: 0px 1px 3px 1px rgba(0, 0, 0, 0.15);\n",
              "      filter: drop-shadow(0px 1px 2px rgba(0, 0, 0, 0.3));\n",
              "      fill: #FFFFFF;\n",
              "    }\n",
              "  </style>\n",
              "\n",
              "    <script>\n",
              "      const buttonEl =\n",
              "        document.querySelector('#df-cb0cb03f-470d-4974-80a1-cfc6bc903969 button.colab-df-convert');\n",
              "      buttonEl.style.display =\n",
              "        google.colab.kernel.accessAllowed ? 'block' : 'none';\n",
              "\n",
              "      async function convertToInteractive(key) {\n",
              "        const element = document.querySelector('#df-cb0cb03f-470d-4974-80a1-cfc6bc903969');\n",
              "        const dataTable =\n",
              "          await google.colab.kernel.invokeFunction('convertToInteractive',\n",
              "                                                    [key], {});\n",
              "        if (!dataTable) return;\n",
              "\n",
              "        const docLinkHtml = 'Like what you see? Visit the ' +\n",
              "          '<a target=\"_blank\" href=https://colab.research.google.com/notebooks/data_table.ipynb>data table notebook</a>'\n",
              "          + ' to learn more about interactive tables.';\n",
              "        element.innerHTML = '';\n",
              "        dataTable['output_type'] = 'display_data';\n",
              "        await google.colab.output.renderOutput(dataTable, element);\n",
              "        const docLink = document.createElement('div');\n",
              "        docLink.innerHTML = docLinkHtml;\n",
              "        element.appendChild(docLink);\n",
              "      }\n",
              "    </script>\n",
              "  </div>\n",
              "\n",
              "\n",
              "<div id=\"df-a558165a-fe3f-4b6d-bb84-48b4bb38a52a\">\n",
              "  <button class=\"colab-df-quickchart\" onclick=\"quickchart('df-a558165a-fe3f-4b6d-bb84-48b4bb38a52a')\"\n",
              "            title=\"Suggest charts\"\n",
              "            style=\"display:none;\">\n",
              "\n",
              "<svg xmlns=\"http://www.w3.org/2000/svg\" height=\"24px\"viewBox=\"0 0 24 24\"\n",
              "     width=\"24px\">\n",
              "    <g>\n",
              "        <path d=\"M19 3H5c-1.1 0-2 .9-2 2v14c0 1.1.9 2 2 2h14c1.1 0 2-.9 2-2V5c0-1.1-.9-2-2-2zM9 17H7v-7h2v7zm4 0h-2V7h2v10zm4 0h-2v-4h2v4z\"/>\n",
              "    </g>\n",
              "</svg>\n",
              "  </button>\n",
              "\n",
              "<style>\n",
              "  .colab-df-quickchart {\n",
              "      --bg-color: #E8F0FE;\n",
              "      --fill-color: #1967D2;\n",
              "      --hover-bg-color: #E2EBFA;\n",
              "      --hover-fill-color: #174EA6;\n",
              "      --disabled-fill-color: #AAA;\n",
              "      --disabled-bg-color: #DDD;\n",
              "  }\n",
              "\n",
              "  [theme=dark] .colab-df-quickchart {\n",
              "      --bg-color: #3B4455;\n",
              "      --fill-color: #D2E3FC;\n",
              "      --hover-bg-color: #434B5C;\n",
              "      --hover-fill-color: #FFFFFF;\n",
              "      --disabled-bg-color: #3B4455;\n",
              "      --disabled-fill-color: #666;\n",
              "  }\n",
              "\n",
              "  .colab-df-quickchart {\n",
              "    background-color: var(--bg-color);\n",
              "    border: none;\n",
              "    border-radius: 50%;\n",
              "    cursor: pointer;\n",
              "    display: none;\n",
              "    fill: var(--fill-color);\n",
              "    height: 32px;\n",
              "    padding: 0;\n",
              "    width: 32px;\n",
              "  }\n",
              "\n",
              "  .colab-df-quickchart:hover {\n",
              "    background-color: var(--hover-bg-color);\n",
              "    box-shadow: 0 1px 2px rgba(60, 64, 67, 0.3), 0 1px 3px 1px rgba(60, 64, 67, 0.15);\n",
              "    fill: var(--button-hover-fill-color);\n",
              "  }\n",
              "\n",
              "  .colab-df-quickchart-complete:disabled,\n",
              "  .colab-df-quickchart-complete:disabled:hover {\n",
              "    background-color: var(--disabled-bg-color);\n",
              "    fill: var(--disabled-fill-color);\n",
              "    box-shadow: none;\n",
              "  }\n",
              "\n",
              "  .colab-df-spinner {\n",
              "    border: 2px solid var(--fill-color);\n",
              "    border-color: transparent;\n",
              "    border-bottom-color: var(--fill-color);\n",
              "    animation:\n",
              "      spin 1s steps(1) infinite;\n",
              "  }\n",
              "\n",
              "  @keyframes spin {\n",
              "    0% {\n",
              "      border-color: transparent;\n",
              "      border-bottom-color: var(--fill-color);\n",
              "      border-left-color: var(--fill-color);\n",
              "    }\n",
              "    20% {\n",
              "      border-color: transparent;\n",
              "      border-left-color: var(--fill-color);\n",
              "      border-top-color: var(--fill-color);\n",
              "    }\n",
              "    30% {\n",
              "      border-color: transparent;\n",
              "      border-left-color: var(--fill-color);\n",
              "      border-top-color: var(--fill-color);\n",
              "      border-right-color: var(--fill-color);\n",
              "    }\n",
              "    40% {\n",
              "      border-color: transparent;\n",
              "      border-right-color: var(--fill-color);\n",
              "      border-top-color: var(--fill-color);\n",
              "    }\n",
              "    60% {\n",
              "      border-color: transparent;\n",
              "      border-right-color: var(--fill-color);\n",
              "    }\n",
              "    80% {\n",
              "      border-color: transparent;\n",
              "      border-right-color: var(--fill-color);\n",
              "      border-bottom-color: var(--fill-color);\n",
              "    }\n",
              "    90% {\n",
              "      border-color: transparent;\n",
              "      border-bottom-color: var(--fill-color);\n",
              "    }\n",
              "  }\n",
              "</style>\n",
              "\n",
              "  <script>\n",
              "    async function quickchart(key) {\n",
              "      const quickchartButtonEl =\n",
              "        document.querySelector('#' + key + ' button');\n",
              "      quickchartButtonEl.disabled = true;  // To prevent multiple clicks.\n",
              "      quickchartButtonEl.classList.add('colab-df-spinner');\n",
              "      try {\n",
              "        const charts = await google.colab.kernel.invokeFunction(\n",
              "            'suggestCharts', [key], {});\n",
              "      } catch (error) {\n",
              "        console.error('Error during call to suggestCharts:', error);\n",
              "      }\n",
              "      quickchartButtonEl.classList.remove('colab-df-spinner');\n",
              "      quickchartButtonEl.classList.add('colab-df-quickchart-complete');\n",
              "    }\n",
              "    (() => {\n",
              "      let quickchartButtonEl =\n",
              "        document.querySelector('#df-a558165a-fe3f-4b6d-bb84-48b4bb38a52a button');\n",
              "      quickchartButtonEl.style.display =\n",
              "        google.colab.kernel.accessAllowed ? 'block' : 'none';\n",
              "    })();\n",
              "  </script>\n",
              "</div>\n",
              "    </div>\n",
              "  </div>\n"
            ]
          },
          "metadata": {},
          "execution_count": 72
        }
      ]
    },
    {
      "cell_type": "code",
      "source": [
        "# train / test 데이터 준비\n",
        "# rating_data['rating'] = rating_data['sum_use_tms'] + rating_data['click_cnt']\n",
        "rating_data['rating'] = rating_data['sum_use_tms']\n",
        "rating_data['rating'] = rating_data['rating'].apply(lambda x: 1 if x > 5 else 0)\n",
        "df = rating_data[['user_id', 'vod_id', 'rating']]"
      ],
      "metadata": {
        "id": "MnpzuJwn2ti4"
      },
      "execution_count": 3,
      "outputs": []
    },
    {
      "cell_type": "code",
      "source": [
        "# 1. 무작위 분할\n",
        "from sklearn.model_selection import train_test_split\n",
        "train_df, test_df = train_test_split(df, test_size=0.2, random_state=0)"
      ],
      "metadata": {
        "id": "dcsZMfzF5JNI"
      },
      "execution_count": 4,
      "outputs": []
    },
    {
      "cell_type": "code",
      "source": [
        "train_users = train_df['user_id'].values\n",
        "train_items = train_df['vod_id'].values\n",
        "train_ratings = train_df['rating'].values\n",
        "\n",
        "test_users = test_df['user_id'].values\n",
        "test_items = test_df['vod_id'].values\n",
        "test_ratings = test_df['rating'].values"
      ],
      "metadata": {
        "id": "-gNabprw5i58"
      },
      "execution_count": 5,
      "outputs": []
    },
    {
      "cell_type": "code",
      "source": [
        "import tensorflow as tf\n",
        "from tensorflow.keras.layers import *\n",
        "from tensorflow.keras.models import *"
      ],
      "metadata": {
        "id": "gF_1jPbB6ING"
      },
      "execution_count": 6,
      "outputs": []
    },
    {
      "cell_type": "code",
      "source": [
        "def NCF(users_num, items_num, latent_dim_gmf, latent_dim_mlp):\n",
        "    # User Embedding\n",
        "    user = Input(shape=(1,), dtype='int32', name='user_input')\n",
        "    item = Input(shape=(1,), dtype='int32', name='item_input')\n",
        "\n",
        "    # GMF 쌓기\n",
        "    user_embedding_gmf = Embedding(users_num, latent_dim_gmf, input_length=user.shape[1])(user)\n",
        "    item_embedding_gmf = Embedding(items_num, latent_dim_gmf, input_length=item.shape[1])(item)\n",
        "\n",
        "    user_latent_gmf = Flatten()(user_embedding_gmf)\n",
        "    item_latent_gmf = Flatten()(item_embedding_gmf)\n",
        "\n",
        "    # GMF Layer - Embedding한 MF Latent Vector를 내적\n",
        "    gmf_layer = dot([user_latent_gmf, item_latent_gmf], axes=1)\n",
        "    # GMF Predict\n",
        "    gmf_prediction = Dense(1, activation='sigmoid', kernel_initializer='lecun_uniform')(gmf_layer)\n",
        "\n",
        "    # MLP 쌓기\n",
        "    user_embedding_mlp = Embedding(users_num, latent_dim_mlp, input_length=user.shape[1])(user)\n",
        "    item_embedding_mlp = Embedding(items_num, latent_dim_mlp, input_length=item.shape[1])(item)\n",
        "\n",
        "    user_latent_mlp = Flatten()(user_embedding_mlp)\n",
        "    item_latent_mlp = Flatten()(item_embedding_mlp)\n",
        "\n",
        "    # Concatenated\n",
        "    concat_embedding = Concatenate()([user_latent_mlp, item_latent_mlp])\n",
        "\n",
        "    # FC Layer - MLP\n",
        "    layer_1 = Dense(units=64, activation='relu', name='layer1')(concat_embedding)\n",
        "    layer_2 = Dense(units=32, activation='relu', name='layer2')(layer_1)\n",
        "    layer_3 = Dense(units=16, activation='relu', name='layer3')(layer_2)\n",
        "    layer_4 = Dense(units=8, activation='relu', name='layer4')(layer_3)\n",
        "\n",
        "    # MLP Predict\n",
        "    mlp_prediction = Dense(1, activation='sigmoid', kernel_initializer='lecun_uniform')(layer_4)\n",
        "\n",
        "    # GMF + MLP\n",
        "    predict_vector = Concatenate()([gmf_prediction, mlp_prediction])\n",
        "\n",
        "    # output layer\n",
        "    output_layer = Dense(1, activation='sigmoid', kernel_initializer='lecun_uniform')(predict_vector)\n",
        "\n",
        "    # Model\n",
        "    model = Model([user, item], output_layer)\n",
        "    model.compile(optimizer='adam', loss='binary_crossentropy')\n",
        "\n",
        "    return model"
      ],
      "metadata": {
        "id": "KlP1C9KPYL6L"
      },
      "execution_count": 7,
      "outputs": []
    },
    {
      "cell_type": "code",
      "source": [
        "users_num = len(user_id)\n",
        "items_num = len(vod_info)"
      ],
      "metadata": {
        "id": "FtMuycqETKKO"
      },
      "execution_count": 8,
      "outputs": []
    },
    {
      "cell_type": "code",
      "source": [
        "ncf = NCF(users_num, items_num, 20, 20)\n",
        "ncf.summary()"
      ],
      "metadata": {
        "colab": {
          "base_uri": "https://localhost:8080/"
        },
        "id": "pMBeWc0lTlJm",
        "outputId": "c2b172a3-9c80-4999-a90e-1288bd7a25ae"
      },
      "execution_count": 9,
      "outputs": [
        {
          "output_type": "stream",
          "name": "stdout",
          "text": [
            "Model: \"model\"\n",
            "__________________________________________________________________________________________________\n",
            " Layer (type)                Output Shape                 Param #   Connected to                  \n",
            "==================================================================================================\n",
            " user_input (InputLayer)     [(None, 1)]                  0         []                            \n",
            "                                                                                                  \n",
            " item_input (InputLayer)     [(None, 1)]                  0         []                            \n",
            "                                                                                                  \n",
            " embedding_2 (Embedding)     (None, 1, 20)                18480     ['user_input[0][0]']          \n",
            "                                                                                                  \n",
            " embedding_3 (Embedding)     (None, 1, 20)                95720     ['item_input[0][0]']          \n",
            "                                                                                                  \n",
            " flatten_2 (Flatten)         (None, 20)                   0         ['embedding_2[0][0]']         \n",
            "                                                                                                  \n",
            " flatten_3 (Flatten)         (None, 20)                   0         ['embedding_3[0][0]']         \n",
            "                                                                                                  \n",
            " concatenate (Concatenate)   (None, 40)                   0         ['flatten_2[0][0]',           \n",
            "                                                                     'flatten_3[0][0]']           \n",
            "                                                                                                  \n",
            " layer1 (Dense)              (None, 64)                   2624      ['concatenate[0][0]']         \n",
            "                                                                                                  \n",
            " embedding (Embedding)       (None, 1, 20)                18480     ['user_input[0][0]']          \n",
            "                                                                                                  \n",
            " embedding_1 (Embedding)     (None, 1, 20)                95720     ['item_input[0][0]']          \n",
            "                                                                                                  \n",
            " layer2 (Dense)              (None, 32)                   2080      ['layer1[0][0]']              \n",
            "                                                                                                  \n",
            " flatten (Flatten)           (None, 20)                   0         ['embedding[0][0]']           \n",
            "                                                                                                  \n",
            " flatten_1 (Flatten)         (None, 20)                   0         ['embedding_1[0][0]']         \n",
            "                                                                                                  \n",
            " layer3 (Dense)              (None, 16)                   528       ['layer2[0][0]']              \n",
            "                                                                                                  \n",
            " dot (Dot)                   (None, 1)                    0         ['flatten[0][0]',             \n",
            "                                                                     'flatten_1[0][0]']           \n",
            "                                                                                                  \n",
            " layer4 (Dense)              (None, 8)                    136       ['layer3[0][0]']              \n",
            "                                                                                                  \n",
            " dense (Dense)               (None, 1)                    2         ['dot[0][0]']                 \n",
            "                                                                                                  \n",
            " dense_1 (Dense)             (None, 1)                    9         ['layer4[0][0]']              \n",
            "                                                                                                  \n",
            " concatenate_1 (Concatenate  (None, 2)                    0         ['dense[0][0]',               \n",
            " )                                                                   'dense_1[0][0]']             \n",
            "                                                                                                  \n",
            " dense_2 (Dense)             (None, 1)                    3         ['concatenate_1[0][0]']       \n",
            "                                                                                                  \n",
            "==================================================================================================\n",
            "Total params: 233782 (913.21 KB)\n",
            "Trainable params: 233782 (913.21 KB)\n",
            "Non-trainable params: 0 (0.00 Byte)\n",
            "__________________________________________________________________________________________________\n"
          ]
        }
      ]
    },
    {
      "cell_type": "code",
      "source": [
        "ncf.fit([train_users, train_items], train_ratings, epochs=5,\n",
        "        validation_data=([test_users, test_items], test_ratings),\n",
        "        verbose=1)"
      ],
      "metadata": {
        "colab": {
          "base_uri": "https://localhost:8080/"
        },
        "id": "qzcvZl9tU1Tk",
        "outputId": "deecbb1f-ea68-4e36-e9f5-abc7a7082aa1"
      },
      "execution_count": 10,
      "outputs": [
        {
          "output_type": "stream",
          "name": "stdout",
          "text": [
            "Epoch 1/5\n",
            "259/259 [==============================] - 20s 29ms/step - loss: 0.5989 - val_loss: 0.5371\n",
            "Epoch 2/5\n",
            "259/259 [==============================] - 3s 12ms/step - loss: 0.5031 - val_loss: 0.4894\n",
            "Epoch 3/5\n",
            "259/259 [==============================] - 3s 10ms/step - loss: 0.4521 - val_loss: 0.4686\n",
            "Epoch 4/5\n",
            "259/259 [==============================] - 2s 6ms/step - loss: 0.4168 - val_loss: 0.4627\n",
            "Epoch 5/5\n",
            "259/259 [==============================] - 2s 6ms/step - loss: 0.3779 - val_loss: 0.4513\n"
          ]
        },
        {
          "output_type": "execute_result",
          "data": {
            "text/plain": [
              "<keras.src.callbacks.History at 0x7b6f21399780>"
            ]
          },
          "metadata": {},
          "execution_count": 10
        }
      ]
    },
    {
      "cell_type": "code",
      "source": [
        "# Precision@k, Recall@k 구하기\n",
        "\n",
        "\n",
        "# 1. Predictions\n",
        "predictions = ncf.predict([test_users, test_items]).flatten()\n",
        "result = pd.DataFrame([test_users, test_items, predictions]).T\n",
        "result.columns = ['user_id', 'vod_id', 'prediction']\n",
        "result"
      ],
      "metadata": {
        "colab": {
          "base_uri": "https://localhost:8080/",
          "height": 442
        },
        "id": "NaIfjd5ufHHW",
        "outputId": "d476a8e1-373a-4f47-cd51-0b441e27371d"
      },
      "execution_count": 11,
      "outputs": [
        {
          "output_type": "stream",
          "name": "stdout",
          "text": [
            "65/65 [==============================] - 0s 2ms/step\n"
          ]
        },
        {
          "output_type": "execute_result",
          "data": {
            "text/plain": [
              "      user_id  vod_id  prediction\n",
              "0       810.0  3570.0    0.345313\n",
              "1       788.0  4747.0    0.140314\n",
              "2       661.0  1270.0    0.136676\n",
              "3       369.0    32.0    0.133515\n",
              "4       771.0  4747.0    0.126686\n",
              "...       ...     ...         ...\n",
              "2067    101.0   552.0    0.320213\n",
              "2068    460.0   985.0    0.146444\n",
              "2069    661.0  3835.0    0.154166\n",
              "2070    661.0  2275.0    0.136185\n",
              "2071    253.0   709.0    0.408438\n",
              "\n",
              "[2072 rows x 3 columns]"
            ],
            "text/html": [
              "\n",
              "  <div id=\"df-cd4750b8-8c00-485e-b8ed-39a7e1c625dc\" class=\"colab-df-container\">\n",
              "    <div>\n",
              "<style scoped>\n",
              "    .dataframe tbody tr th:only-of-type {\n",
              "        vertical-align: middle;\n",
              "    }\n",
              "\n",
              "    .dataframe tbody tr th {\n",
              "        vertical-align: top;\n",
              "    }\n",
              "\n",
              "    .dataframe thead th {\n",
              "        text-align: right;\n",
              "    }\n",
              "</style>\n",
              "<table border=\"1\" class=\"dataframe\">\n",
              "  <thead>\n",
              "    <tr style=\"text-align: right;\">\n",
              "      <th></th>\n",
              "      <th>user_id</th>\n",
              "      <th>vod_id</th>\n",
              "      <th>prediction</th>\n",
              "    </tr>\n",
              "  </thead>\n",
              "  <tbody>\n",
              "    <tr>\n",
              "      <th>0</th>\n",
              "      <td>810.0</td>\n",
              "      <td>3570.0</td>\n",
              "      <td>0.345313</td>\n",
              "    </tr>\n",
              "    <tr>\n",
              "      <th>1</th>\n",
              "      <td>788.0</td>\n",
              "      <td>4747.0</td>\n",
              "      <td>0.140314</td>\n",
              "    </tr>\n",
              "    <tr>\n",
              "      <th>2</th>\n",
              "      <td>661.0</td>\n",
              "      <td>1270.0</td>\n",
              "      <td>0.136676</td>\n",
              "    </tr>\n",
              "    <tr>\n",
              "      <th>3</th>\n",
              "      <td>369.0</td>\n",
              "      <td>32.0</td>\n",
              "      <td>0.133515</td>\n",
              "    </tr>\n",
              "    <tr>\n",
              "      <th>4</th>\n",
              "      <td>771.0</td>\n",
              "      <td>4747.0</td>\n",
              "      <td>0.126686</td>\n",
              "    </tr>\n",
              "    <tr>\n",
              "      <th>...</th>\n",
              "      <td>...</td>\n",
              "      <td>...</td>\n",
              "      <td>...</td>\n",
              "    </tr>\n",
              "    <tr>\n",
              "      <th>2067</th>\n",
              "      <td>101.0</td>\n",
              "      <td>552.0</td>\n",
              "      <td>0.320213</td>\n",
              "    </tr>\n",
              "    <tr>\n",
              "      <th>2068</th>\n",
              "      <td>460.0</td>\n",
              "      <td>985.0</td>\n",
              "      <td>0.146444</td>\n",
              "    </tr>\n",
              "    <tr>\n",
              "      <th>2069</th>\n",
              "      <td>661.0</td>\n",
              "      <td>3835.0</td>\n",
              "      <td>0.154166</td>\n",
              "    </tr>\n",
              "    <tr>\n",
              "      <th>2070</th>\n",
              "      <td>661.0</td>\n",
              "      <td>2275.0</td>\n",
              "      <td>0.136185</td>\n",
              "    </tr>\n",
              "    <tr>\n",
              "      <th>2071</th>\n",
              "      <td>253.0</td>\n",
              "      <td>709.0</td>\n",
              "      <td>0.408438</td>\n",
              "    </tr>\n",
              "  </tbody>\n",
              "</table>\n",
              "<p>2072 rows × 3 columns</p>\n",
              "</div>\n",
              "    <div class=\"colab-df-buttons\">\n",
              "\n",
              "  <div class=\"colab-df-container\">\n",
              "    <button class=\"colab-df-convert\" onclick=\"convertToInteractive('df-cd4750b8-8c00-485e-b8ed-39a7e1c625dc')\"\n",
              "            title=\"Convert this dataframe to an interactive table.\"\n",
              "            style=\"display:none;\">\n",
              "\n",
              "  <svg xmlns=\"http://www.w3.org/2000/svg\" height=\"24px\" viewBox=\"0 -960 960 960\">\n",
              "    <path d=\"M120-120v-720h720v720H120Zm60-500h600v-160H180v160Zm220 220h160v-160H400v160Zm0 220h160v-160H400v160ZM180-400h160v-160H180v160Zm440 0h160v-160H620v160ZM180-180h160v-160H180v160Zm440 0h160v-160H620v160Z\"/>\n",
              "  </svg>\n",
              "    </button>\n",
              "\n",
              "  <style>\n",
              "    .colab-df-container {\n",
              "      display:flex;\n",
              "      gap: 12px;\n",
              "    }\n",
              "\n",
              "    .colab-df-convert {\n",
              "      background-color: #E8F0FE;\n",
              "      border: none;\n",
              "      border-radius: 50%;\n",
              "      cursor: pointer;\n",
              "      display: none;\n",
              "      fill: #1967D2;\n",
              "      height: 32px;\n",
              "      padding: 0 0 0 0;\n",
              "      width: 32px;\n",
              "    }\n",
              "\n",
              "    .colab-df-convert:hover {\n",
              "      background-color: #E2EBFA;\n",
              "      box-shadow: 0px 1px 2px rgba(60, 64, 67, 0.3), 0px 1px 3px 1px rgba(60, 64, 67, 0.15);\n",
              "      fill: #174EA6;\n",
              "    }\n",
              "\n",
              "    .colab-df-buttons div {\n",
              "      margin-bottom: 4px;\n",
              "    }\n",
              "\n",
              "    [theme=dark] .colab-df-convert {\n",
              "      background-color: #3B4455;\n",
              "      fill: #D2E3FC;\n",
              "    }\n",
              "\n",
              "    [theme=dark] .colab-df-convert:hover {\n",
              "      background-color: #434B5C;\n",
              "      box-shadow: 0px 1px 3px 1px rgba(0, 0, 0, 0.15);\n",
              "      filter: drop-shadow(0px 1px 2px rgba(0, 0, 0, 0.3));\n",
              "      fill: #FFFFFF;\n",
              "    }\n",
              "  </style>\n",
              "\n",
              "    <script>\n",
              "      const buttonEl =\n",
              "        document.querySelector('#df-cd4750b8-8c00-485e-b8ed-39a7e1c625dc button.colab-df-convert');\n",
              "      buttonEl.style.display =\n",
              "        google.colab.kernel.accessAllowed ? 'block' : 'none';\n",
              "\n",
              "      async function convertToInteractive(key) {\n",
              "        const element = document.querySelector('#df-cd4750b8-8c00-485e-b8ed-39a7e1c625dc');\n",
              "        const dataTable =\n",
              "          await google.colab.kernel.invokeFunction('convertToInteractive',\n",
              "                                                    [key], {});\n",
              "        if (!dataTable) return;\n",
              "\n",
              "        const docLinkHtml = 'Like what you see? Visit the ' +\n",
              "          '<a target=\"_blank\" href=https://colab.research.google.com/notebooks/data_table.ipynb>data table notebook</a>'\n",
              "          + ' to learn more about interactive tables.';\n",
              "        element.innerHTML = '';\n",
              "        dataTable['output_type'] = 'display_data';\n",
              "        await google.colab.output.renderOutput(dataTable, element);\n",
              "        const docLink = document.createElement('div');\n",
              "        docLink.innerHTML = docLinkHtml;\n",
              "        element.appendChild(docLink);\n",
              "      }\n",
              "    </script>\n",
              "  </div>\n",
              "\n",
              "\n",
              "<div id=\"df-6dc8c6de-5dbd-49f7-89ba-cff122e17301\">\n",
              "  <button class=\"colab-df-quickchart\" onclick=\"quickchart('df-6dc8c6de-5dbd-49f7-89ba-cff122e17301')\"\n",
              "            title=\"Suggest charts\"\n",
              "            style=\"display:none;\">\n",
              "\n",
              "<svg xmlns=\"http://www.w3.org/2000/svg\" height=\"24px\"viewBox=\"0 0 24 24\"\n",
              "     width=\"24px\">\n",
              "    <g>\n",
              "        <path d=\"M19 3H5c-1.1 0-2 .9-2 2v14c0 1.1.9 2 2 2h14c1.1 0 2-.9 2-2V5c0-1.1-.9-2-2-2zM9 17H7v-7h2v7zm4 0h-2V7h2v10zm4 0h-2v-4h2v4z\"/>\n",
              "    </g>\n",
              "</svg>\n",
              "  </button>\n",
              "\n",
              "<style>\n",
              "  .colab-df-quickchart {\n",
              "      --bg-color: #E8F0FE;\n",
              "      --fill-color: #1967D2;\n",
              "      --hover-bg-color: #E2EBFA;\n",
              "      --hover-fill-color: #174EA6;\n",
              "      --disabled-fill-color: #AAA;\n",
              "      --disabled-bg-color: #DDD;\n",
              "  }\n",
              "\n",
              "  [theme=dark] .colab-df-quickchart {\n",
              "      --bg-color: #3B4455;\n",
              "      --fill-color: #D2E3FC;\n",
              "      --hover-bg-color: #434B5C;\n",
              "      --hover-fill-color: #FFFFFF;\n",
              "      --disabled-bg-color: #3B4455;\n",
              "      --disabled-fill-color: #666;\n",
              "  }\n",
              "\n",
              "  .colab-df-quickchart {\n",
              "    background-color: var(--bg-color);\n",
              "    border: none;\n",
              "    border-radius: 50%;\n",
              "    cursor: pointer;\n",
              "    display: none;\n",
              "    fill: var(--fill-color);\n",
              "    height: 32px;\n",
              "    padding: 0;\n",
              "    width: 32px;\n",
              "  }\n",
              "\n",
              "  .colab-df-quickchart:hover {\n",
              "    background-color: var(--hover-bg-color);\n",
              "    box-shadow: 0 1px 2px rgba(60, 64, 67, 0.3), 0 1px 3px 1px rgba(60, 64, 67, 0.15);\n",
              "    fill: var(--button-hover-fill-color);\n",
              "  }\n",
              "\n",
              "  .colab-df-quickchart-complete:disabled,\n",
              "  .colab-df-quickchart-complete:disabled:hover {\n",
              "    background-color: var(--disabled-bg-color);\n",
              "    fill: var(--disabled-fill-color);\n",
              "    box-shadow: none;\n",
              "  }\n",
              "\n",
              "  .colab-df-spinner {\n",
              "    border: 2px solid var(--fill-color);\n",
              "    border-color: transparent;\n",
              "    border-bottom-color: var(--fill-color);\n",
              "    animation:\n",
              "      spin 1s steps(1) infinite;\n",
              "  }\n",
              "\n",
              "  @keyframes spin {\n",
              "    0% {\n",
              "      border-color: transparent;\n",
              "      border-bottom-color: var(--fill-color);\n",
              "      border-left-color: var(--fill-color);\n",
              "    }\n",
              "    20% {\n",
              "      border-color: transparent;\n",
              "      border-left-color: var(--fill-color);\n",
              "      border-top-color: var(--fill-color);\n",
              "    }\n",
              "    30% {\n",
              "      border-color: transparent;\n",
              "      border-left-color: var(--fill-color);\n",
              "      border-top-color: var(--fill-color);\n",
              "      border-right-color: var(--fill-color);\n",
              "    }\n",
              "    40% {\n",
              "      border-color: transparent;\n",
              "      border-right-color: var(--fill-color);\n",
              "      border-top-color: var(--fill-color);\n",
              "    }\n",
              "    60% {\n",
              "      border-color: transparent;\n",
              "      border-right-color: var(--fill-color);\n",
              "    }\n",
              "    80% {\n",
              "      border-color: transparent;\n",
              "      border-right-color: var(--fill-color);\n",
              "      border-bottom-color: var(--fill-color);\n",
              "    }\n",
              "    90% {\n",
              "      border-color: transparent;\n",
              "      border-bottom-color: var(--fill-color);\n",
              "    }\n",
              "  }\n",
              "</style>\n",
              "\n",
              "  <script>\n",
              "    async function quickchart(key) {\n",
              "      const quickchartButtonEl =\n",
              "        document.querySelector('#' + key + ' button');\n",
              "      quickchartButtonEl.disabled = true;  // To prevent multiple clicks.\n",
              "      quickchartButtonEl.classList.add('colab-df-spinner');\n",
              "      try {\n",
              "        const charts = await google.colab.kernel.invokeFunction(\n",
              "            'suggestCharts', [key], {});\n",
              "      } catch (error) {\n",
              "        console.error('Error during call to suggestCharts:', error);\n",
              "      }\n",
              "      quickchartButtonEl.classList.remove('colab-df-spinner');\n",
              "      quickchartButtonEl.classList.add('colab-df-quickchart-complete');\n",
              "    }\n",
              "    (() => {\n",
              "      let quickchartButtonEl =\n",
              "        document.querySelector('#df-6dc8c6de-5dbd-49f7-89ba-cff122e17301 button');\n",
              "      quickchartButtonEl.style.display =\n",
              "        google.colab.kernel.accessAllowed ? 'block' : 'none';\n",
              "    })();\n",
              "  </script>\n",
              "</div>\n",
              "    </div>\n",
              "  </div>\n"
            ]
          },
          "metadata": {},
          "execution_count": 11
        }
      ]
    },
    {
      "cell_type": "code",
      "source": [
        "# 2. 모든 user, 모든 Item Pair에 대해 Predictions 값 뽑기\n",
        "# 일단 실제 본 것도 포함해서 Pred 데이터프레임 생성\n",
        "users = user_id['user_id'].tolist()\n",
        "users_test_list = np.array([],dtype='int32')\n",
        "items_test_list = np.array([], dtype='int32')\n",
        "for user_id in users:\n",
        "  users_test_list = np.concatenate([users_test_list, np.full(items_num, user_id, dtype='int32')])\n",
        "  items_test_list = np.concatenate([items_test_list, np.array(vod_info['vod_id'].tolist())])"
      ],
      "metadata": {
        "id": "utz5wzogu8mo"
      },
      "execution_count": null,
      "outputs": []
    },
    {
      "cell_type": "code",
      "source": [
        "preds = ncf.predict([users_test_list, items_test_list])"
      ],
      "metadata": {
        "colab": {
          "base_uri": "https://localhost:8080/"
        },
        "id": "sKXpR9HO2zAD",
        "outputId": "06fe0df6-1367-41ca-de8b-6bef9d9b607d"
      },
      "execution_count": 33,
      "outputs": [
        {
          "output_type": "stream",
          "name": "stdout",
          "text": [
            "138196/138196 [==============================] - 384s 3ms/step\n"
          ]
        }
      ]
    },
    {
      "cell_type": "code",
      "source": [
        "all_predictions = pd.DataFrame(data={'user_id':users_test_list.tolist(), 'vod_id':items_test_list.tolist(), 'predictions':preds.flatten()})"
      ],
      "metadata": {
        "id": "b4tudo-q3KPY"
      },
      "execution_count": 38,
      "outputs": []
    },
    {
      "cell_type": "code",
      "source": [
        "all_predictions.to_pickle('/content/drive/MyDrive/DXSCHOOL/Project/NCF_all_pred.pkl')"
      ],
      "metadata": {
        "id": "L5LG-Xt53rAG"
      },
      "execution_count": 40,
      "outputs": []
    },
    {
      "cell_type": "code",
      "source": [
        "# 3. Precision@K 계산 (Average Precision K)\n",
        "# 추천한 K개 중 사용자가 관심 있는 아이템 수 / 모델이 추천해 준 아이템 K개\n",
        "all_predictions"
      ],
      "metadata": {
        "colab": {
          "base_uri": "https://localhost:8080/",
          "height": 424
        },
        "id": "oK466phf7Rh6",
        "outputId": "9e820c7a-2245-44c2-ab60-54159bb36bcc"
      },
      "execution_count": 41,
      "outputs": [
        {
          "output_type": "execute_result",
          "data": {
            "text/plain": [
              "         user_id  vod_id  predictions\n",
              "0              0       0     0.340714\n",
              "1              0       1     0.138318\n",
              "2              0       2     0.338451\n",
              "3              0       3     0.149709\n",
              "4              0       4     0.343482\n",
              "...          ...     ...          ...\n",
              "4422259      923    4781     0.343895\n",
              "4422260      923    4782     0.189853\n",
              "4422261      923    4783     0.337088\n",
              "4422262      923    4784     0.331361\n",
              "4422263      923    4785     0.208975\n",
              "\n",
              "[4422264 rows x 3 columns]"
            ],
            "text/html": [
              "\n",
              "  <div id=\"df-c9833e81-89ec-4356-aeae-bab0d55210c6\" class=\"colab-df-container\">\n",
              "    <div>\n",
              "<style scoped>\n",
              "    .dataframe tbody tr th:only-of-type {\n",
              "        vertical-align: middle;\n",
              "    }\n",
              "\n",
              "    .dataframe tbody tr th {\n",
              "        vertical-align: top;\n",
              "    }\n",
              "\n",
              "    .dataframe thead th {\n",
              "        text-align: right;\n",
              "    }\n",
              "</style>\n",
              "<table border=\"1\" class=\"dataframe\">\n",
              "  <thead>\n",
              "    <tr style=\"text-align: right;\">\n",
              "      <th></th>\n",
              "      <th>user_id</th>\n",
              "      <th>vod_id</th>\n",
              "      <th>predictions</th>\n",
              "    </tr>\n",
              "  </thead>\n",
              "  <tbody>\n",
              "    <tr>\n",
              "      <th>0</th>\n",
              "      <td>0</td>\n",
              "      <td>0</td>\n",
              "      <td>0.340714</td>\n",
              "    </tr>\n",
              "    <tr>\n",
              "      <th>1</th>\n",
              "      <td>0</td>\n",
              "      <td>1</td>\n",
              "      <td>0.138318</td>\n",
              "    </tr>\n",
              "    <tr>\n",
              "      <th>2</th>\n",
              "      <td>0</td>\n",
              "      <td>2</td>\n",
              "      <td>0.338451</td>\n",
              "    </tr>\n",
              "    <tr>\n",
              "      <th>3</th>\n",
              "      <td>0</td>\n",
              "      <td>3</td>\n",
              "      <td>0.149709</td>\n",
              "    </tr>\n",
              "    <tr>\n",
              "      <th>4</th>\n",
              "      <td>0</td>\n",
              "      <td>4</td>\n",
              "      <td>0.343482</td>\n",
              "    </tr>\n",
              "    <tr>\n",
              "      <th>...</th>\n",
              "      <td>...</td>\n",
              "      <td>...</td>\n",
              "      <td>...</td>\n",
              "    </tr>\n",
              "    <tr>\n",
              "      <th>4422259</th>\n",
              "      <td>923</td>\n",
              "      <td>4781</td>\n",
              "      <td>0.343895</td>\n",
              "    </tr>\n",
              "    <tr>\n",
              "      <th>4422260</th>\n",
              "      <td>923</td>\n",
              "      <td>4782</td>\n",
              "      <td>0.189853</td>\n",
              "    </tr>\n",
              "    <tr>\n",
              "      <th>4422261</th>\n",
              "      <td>923</td>\n",
              "      <td>4783</td>\n",
              "      <td>0.337088</td>\n",
              "    </tr>\n",
              "    <tr>\n",
              "      <th>4422262</th>\n",
              "      <td>923</td>\n",
              "      <td>4784</td>\n",
              "      <td>0.331361</td>\n",
              "    </tr>\n",
              "    <tr>\n",
              "      <th>4422263</th>\n",
              "      <td>923</td>\n",
              "      <td>4785</td>\n",
              "      <td>0.208975</td>\n",
              "    </tr>\n",
              "  </tbody>\n",
              "</table>\n",
              "<p>4422264 rows × 3 columns</p>\n",
              "</div>\n",
              "    <div class=\"colab-df-buttons\">\n",
              "\n",
              "  <div class=\"colab-df-container\">\n",
              "    <button class=\"colab-df-convert\" onclick=\"convertToInteractive('df-c9833e81-89ec-4356-aeae-bab0d55210c6')\"\n",
              "            title=\"Convert this dataframe to an interactive table.\"\n",
              "            style=\"display:none;\">\n",
              "\n",
              "  <svg xmlns=\"http://www.w3.org/2000/svg\" height=\"24px\" viewBox=\"0 -960 960 960\">\n",
              "    <path d=\"M120-120v-720h720v720H120Zm60-500h600v-160H180v160Zm220 220h160v-160H400v160Zm0 220h160v-160H400v160ZM180-400h160v-160H180v160Zm440 0h160v-160H620v160ZM180-180h160v-160H180v160Zm440 0h160v-160H620v160Z\"/>\n",
              "  </svg>\n",
              "    </button>\n",
              "\n",
              "  <style>\n",
              "    .colab-df-container {\n",
              "      display:flex;\n",
              "      gap: 12px;\n",
              "    }\n",
              "\n",
              "    .colab-df-convert {\n",
              "      background-color: #E8F0FE;\n",
              "      border: none;\n",
              "      border-radius: 50%;\n",
              "      cursor: pointer;\n",
              "      display: none;\n",
              "      fill: #1967D2;\n",
              "      height: 32px;\n",
              "      padding: 0 0 0 0;\n",
              "      width: 32px;\n",
              "    }\n",
              "\n",
              "    .colab-df-convert:hover {\n",
              "      background-color: #E2EBFA;\n",
              "      box-shadow: 0px 1px 2px rgba(60, 64, 67, 0.3), 0px 1px 3px 1px rgba(60, 64, 67, 0.15);\n",
              "      fill: #174EA6;\n",
              "    }\n",
              "\n",
              "    .colab-df-buttons div {\n",
              "      margin-bottom: 4px;\n",
              "    }\n",
              "\n",
              "    [theme=dark] .colab-df-convert {\n",
              "      background-color: #3B4455;\n",
              "      fill: #D2E3FC;\n",
              "    }\n",
              "\n",
              "    [theme=dark] .colab-df-convert:hover {\n",
              "      background-color: #434B5C;\n",
              "      box-shadow: 0px 1px 3px 1px rgba(0, 0, 0, 0.15);\n",
              "      filter: drop-shadow(0px 1px 2px rgba(0, 0, 0, 0.3));\n",
              "      fill: #FFFFFF;\n",
              "    }\n",
              "  </style>\n",
              "\n",
              "    <script>\n",
              "      const buttonEl =\n",
              "        document.querySelector('#df-c9833e81-89ec-4356-aeae-bab0d55210c6 button.colab-df-convert');\n",
              "      buttonEl.style.display =\n",
              "        google.colab.kernel.accessAllowed ? 'block' : 'none';\n",
              "\n",
              "      async function convertToInteractive(key) {\n",
              "        const element = document.querySelector('#df-c9833e81-89ec-4356-aeae-bab0d55210c6');\n",
              "        const dataTable =\n",
              "          await google.colab.kernel.invokeFunction('convertToInteractive',\n",
              "                                                    [key], {});\n",
              "        if (!dataTable) return;\n",
              "\n",
              "        const docLinkHtml = 'Like what you see? Visit the ' +\n",
              "          '<a target=\"_blank\" href=https://colab.research.google.com/notebooks/data_table.ipynb>data table notebook</a>'\n",
              "          + ' to learn more about interactive tables.';\n",
              "        element.innerHTML = '';\n",
              "        dataTable['output_type'] = 'display_data';\n",
              "        await google.colab.output.renderOutput(dataTable, element);\n",
              "        const docLink = document.createElement('div');\n",
              "        docLink.innerHTML = docLinkHtml;\n",
              "        element.appendChild(docLink);\n",
              "      }\n",
              "    </script>\n",
              "  </div>\n",
              "\n",
              "\n",
              "<div id=\"df-adbcedd7-0fa3-463d-b2f4-5d4a48cc6869\">\n",
              "  <button class=\"colab-df-quickchart\" onclick=\"quickchart('df-adbcedd7-0fa3-463d-b2f4-5d4a48cc6869')\"\n",
              "            title=\"Suggest charts\"\n",
              "            style=\"display:none;\">\n",
              "\n",
              "<svg xmlns=\"http://www.w3.org/2000/svg\" height=\"24px\"viewBox=\"0 0 24 24\"\n",
              "     width=\"24px\">\n",
              "    <g>\n",
              "        <path d=\"M19 3H5c-1.1 0-2 .9-2 2v14c0 1.1.9 2 2 2h14c1.1 0 2-.9 2-2V5c0-1.1-.9-2-2-2zM9 17H7v-7h2v7zm4 0h-2V7h2v10zm4 0h-2v-4h2v4z\"/>\n",
              "    </g>\n",
              "</svg>\n",
              "  </button>\n",
              "\n",
              "<style>\n",
              "  .colab-df-quickchart {\n",
              "      --bg-color: #E8F0FE;\n",
              "      --fill-color: #1967D2;\n",
              "      --hover-bg-color: #E2EBFA;\n",
              "      --hover-fill-color: #174EA6;\n",
              "      --disabled-fill-color: #AAA;\n",
              "      --disabled-bg-color: #DDD;\n",
              "  }\n",
              "\n",
              "  [theme=dark] .colab-df-quickchart {\n",
              "      --bg-color: #3B4455;\n",
              "      --fill-color: #D2E3FC;\n",
              "      --hover-bg-color: #434B5C;\n",
              "      --hover-fill-color: #FFFFFF;\n",
              "      --disabled-bg-color: #3B4455;\n",
              "      --disabled-fill-color: #666;\n",
              "  }\n",
              "\n",
              "  .colab-df-quickchart {\n",
              "    background-color: var(--bg-color);\n",
              "    border: none;\n",
              "    border-radius: 50%;\n",
              "    cursor: pointer;\n",
              "    display: none;\n",
              "    fill: var(--fill-color);\n",
              "    height: 32px;\n",
              "    padding: 0;\n",
              "    width: 32px;\n",
              "  }\n",
              "\n",
              "  .colab-df-quickchart:hover {\n",
              "    background-color: var(--hover-bg-color);\n",
              "    box-shadow: 0 1px 2px rgba(60, 64, 67, 0.3), 0 1px 3px 1px rgba(60, 64, 67, 0.15);\n",
              "    fill: var(--button-hover-fill-color);\n",
              "  }\n",
              "\n",
              "  .colab-df-quickchart-complete:disabled,\n",
              "  .colab-df-quickchart-complete:disabled:hover {\n",
              "    background-color: var(--disabled-bg-color);\n",
              "    fill: var(--disabled-fill-color);\n",
              "    box-shadow: none;\n",
              "  }\n",
              "\n",
              "  .colab-df-spinner {\n",
              "    border: 2px solid var(--fill-color);\n",
              "    border-color: transparent;\n",
              "    border-bottom-color: var(--fill-color);\n",
              "    animation:\n",
              "      spin 1s steps(1) infinite;\n",
              "  }\n",
              "\n",
              "  @keyframes spin {\n",
              "    0% {\n",
              "      border-color: transparent;\n",
              "      border-bottom-color: var(--fill-color);\n",
              "      border-left-color: var(--fill-color);\n",
              "    }\n",
              "    20% {\n",
              "      border-color: transparent;\n",
              "      border-left-color: var(--fill-color);\n",
              "      border-top-color: var(--fill-color);\n",
              "    }\n",
              "    30% {\n",
              "      border-color: transparent;\n",
              "      border-left-color: var(--fill-color);\n",
              "      border-top-color: var(--fill-color);\n",
              "      border-right-color: var(--fill-color);\n",
              "    }\n",
              "    40% {\n",
              "      border-color: transparent;\n",
              "      border-right-color: var(--fill-color);\n",
              "      border-top-color: var(--fill-color);\n",
              "    }\n",
              "    60% {\n",
              "      border-color: transparent;\n",
              "      border-right-color: var(--fill-color);\n",
              "    }\n",
              "    80% {\n",
              "      border-color: transparent;\n",
              "      border-right-color: var(--fill-color);\n",
              "      border-bottom-color: var(--fill-color);\n",
              "    }\n",
              "    90% {\n",
              "      border-color: transparent;\n",
              "      border-bottom-color: var(--fill-color);\n",
              "    }\n",
              "  }\n",
              "</style>\n",
              "\n",
              "  <script>\n",
              "    async function quickchart(key) {\n",
              "      const quickchartButtonEl =\n",
              "        document.querySelector('#' + key + ' button');\n",
              "      quickchartButtonEl.disabled = true;  // To prevent multiple clicks.\n",
              "      quickchartButtonEl.classList.add('colab-df-spinner');\n",
              "      try {\n",
              "        const charts = await google.colab.kernel.invokeFunction(\n",
              "            'suggestCharts', [key], {});\n",
              "      } catch (error) {\n",
              "        console.error('Error during call to suggestCharts:', error);\n",
              "      }\n",
              "      quickchartButtonEl.classList.remove('colab-df-spinner');\n",
              "      quickchartButtonEl.classList.add('colab-df-quickchart-complete');\n",
              "    }\n",
              "    (() => {\n",
              "      let quickchartButtonEl =\n",
              "        document.querySelector('#df-adbcedd7-0fa3-463d-b2f4-5d4a48cc6869 button');\n",
              "      quickchartButtonEl.style.display =\n",
              "        google.colab.kernel.accessAllowed ? 'block' : 'none';\n",
              "    })();\n",
              "  </script>\n",
              "</div>\n",
              "    </div>\n",
              "  </div>\n"
            ]
          },
          "metadata": {},
          "execution_count": 41
        }
      ]
    },
    {
      "cell_type": "code",
      "source": [
        "pred_k = all_predictions[all_predictions['user_id']==0].sort_values('predictions',ascending=False)[:10]\n",
        "pred_k = pred_k.merge(df, how='left', on=['user_id','vod_id']).fillna(0)"
      ],
      "metadata": {
        "id": "rmbWA4Jp-Vj_"
      },
      "execution_count": 55,
      "outputs": []
    },
    {
      "cell_type": "code",
      "source": [
        "pred_k"
      ],
      "metadata": {
        "colab": {
          "base_uri": "https://localhost:8080/",
          "height": 363
        },
        "id": "f7XNFrxD_cbs",
        "outputId": "8fff5a5d-2b33-4974-d295-1805f540a73d"
      },
      "execution_count": 56,
      "outputs": [
        {
          "output_type": "execute_result",
          "data": {
            "text/plain": [
              "   user_id  vod_id  predictions  rating\n",
              "0        0      42     0.384280     0.0\n",
              "1        0     341     0.381675     0.0\n",
              "2        0      39     0.378726     0.0\n",
              "3        0     398     0.377288     0.0\n",
              "4        0     169     0.376444     1.0\n",
              "5        0      76     0.372973     0.0\n",
              "6        0      95     0.372481     0.0\n",
              "7        0      79     0.371335     0.0\n",
              "8        0      43     0.370773     0.0\n",
              "9        0      37     0.369969     0.0"
            ],
            "text/html": [
              "\n",
              "  <div id=\"df-5daae3b0-5f8d-4fe6-b56f-8504862c3d32\" class=\"colab-df-container\">\n",
              "    <div>\n",
              "<style scoped>\n",
              "    .dataframe tbody tr th:only-of-type {\n",
              "        vertical-align: middle;\n",
              "    }\n",
              "\n",
              "    .dataframe tbody tr th {\n",
              "        vertical-align: top;\n",
              "    }\n",
              "\n",
              "    .dataframe thead th {\n",
              "        text-align: right;\n",
              "    }\n",
              "</style>\n",
              "<table border=\"1\" class=\"dataframe\">\n",
              "  <thead>\n",
              "    <tr style=\"text-align: right;\">\n",
              "      <th></th>\n",
              "      <th>user_id</th>\n",
              "      <th>vod_id</th>\n",
              "      <th>predictions</th>\n",
              "      <th>rating</th>\n",
              "    </tr>\n",
              "  </thead>\n",
              "  <tbody>\n",
              "    <tr>\n",
              "      <th>0</th>\n",
              "      <td>0</td>\n",
              "      <td>42</td>\n",
              "      <td>0.384280</td>\n",
              "      <td>0.0</td>\n",
              "    </tr>\n",
              "    <tr>\n",
              "      <th>1</th>\n",
              "      <td>0</td>\n",
              "      <td>341</td>\n",
              "      <td>0.381675</td>\n",
              "      <td>0.0</td>\n",
              "    </tr>\n",
              "    <tr>\n",
              "      <th>2</th>\n",
              "      <td>0</td>\n",
              "      <td>39</td>\n",
              "      <td>0.378726</td>\n",
              "      <td>0.0</td>\n",
              "    </tr>\n",
              "    <tr>\n",
              "      <th>3</th>\n",
              "      <td>0</td>\n",
              "      <td>398</td>\n",
              "      <td>0.377288</td>\n",
              "      <td>0.0</td>\n",
              "    </tr>\n",
              "    <tr>\n",
              "      <th>4</th>\n",
              "      <td>0</td>\n",
              "      <td>169</td>\n",
              "      <td>0.376444</td>\n",
              "      <td>1.0</td>\n",
              "    </tr>\n",
              "    <tr>\n",
              "      <th>5</th>\n",
              "      <td>0</td>\n",
              "      <td>76</td>\n",
              "      <td>0.372973</td>\n",
              "      <td>0.0</td>\n",
              "    </tr>\n",
              "    <tr>\n",
              "      <th>6</th>\n",
              "      <td>0</td>\n",
              "      <td>95</td>\n",
              "      <td>0.372481</td>\n",
              "      <td>0.0</td>\n",
              "    </tr>\n",
              "    <tr>\n",
              "      <th>7</th>\n",
              "      <td>0</td>\n",
              "      <td>79</td>\n",
              "      <td>0.371335</td>\n",
              "      <td>0.0</td>\n",
              "    </tr>\n",
              "    <tr>\n",
              "      <th>8</th>\n",
              "      <td>0</td>\n",
              "      <td>43</td>\n",
              "      <td>0.370773</td>\n",
              "      <td>0.0</td>\n",
              "    </tr>\n",
              "    <tr>\n",
              "      <th>9</th>\n",
              "      <td>0</td>\n",
              "      <td>37</td>\n",
              "      <td>0.369969</td>\n",
              "      <td>0.0</td>\n",
              "    </tr>\n",
              "  </tbody>\n",
              "</table>\n",
              "</div>\n",
              "    <div class=\"colab-df-buttons\">\n",
              "\n",
              "  <div class=\"colab-df-container\">\n",
              "    <button class=\"colab-df-convert\" onclick=\"convertToInteractive('df-5daae3b0-5f8d-4fe6-b56f-8504862c3d32')\"\n",
              "            title=\"Convert this dataframe to an interactive table.\"\n",
              "            style=\"display:none;\">\n",
              "\n",
              "  <svg xmlns=\"http://www.w3.org/2000/svg\" height=\"24px\" viewBox=\"0 -960 960 960\">\n",
              "    <path d=\"M120-120v-720h720v720H120Zm60-500h600v-160H180v160Zm220 220h160v-160H400v160Zm0 220h160v-160H400v160ZM180-400h160v-160H180v160Zm440 0h160v-160H620v160ZM180-180h160v-160H180v160Zm440 0h160v-160H620v160Z\"/>\n",
              "  </svg>\n",
              "    </button>\n",
              "\n",
              "  <style>\n",
              "    .colab-df-container {\n",
              "      display:flex;\n",
              "      gap: 12px;\n",
              "    }\n",
              "\n",
              "    .colab-df-convert {\n",
              "      background-color: #E8F0FE;\n",
              "      border: none;\n",
              "      border-radius: 50%;\n",
              "      cursor: pointer;\n",
              "      display: none;\n",
              "      fill: #1967D2;\n",
              "      height: 32px;\n",
              "      padding: 0 0 0 0;\n",
              "      width: 32px;\n",
              "    }\n",
              "\n",
              "    .colab-df-convert:hover {\n",
              "      background-color: #E2EBFA;\n",
              "      box-shadow: 0px 1px 2px rgba(60, 64, 67, 0.3), 0px 1px 3px 1px rgba(60, 64, 67, 0.15);\n",
              "      fill: #174EA6;\n",
              "    }\n",
              "\n",
              "    .colab-df-buttons div {\n",
              "      margin-bottom: 4px;\n",
              "    }\n",
              "\n",
              "    [theme=dark] .colab-df-convert {\n",
              "      background-color: #3B4455;\n",
              "      fill: #D2E3FC;\n",
              "    }\n",
              "\n",
              "    [theme=dark] .colab-df-convert:hover {\n",
              "      background-color: #434B5C;\n",
              "      box-shadow: 0px 1px 3px 1px rgba(0, 0, 0, 0.15);\n",
              "      filter: drop-shadow(0px 1px 2px rgba(0, 0, 0, 0.3));\n",
              "      fill: #FFFFFF;\n",
              "    }\n",
              "  </style>\n",
              "\n",
              "    <script>\n",
              "      const buttonEl =\n",
              "        document.querySelector('#df-5daae3b0-5f8d-4fe6-b56f-8504862c3d32 button.colab-df-convert');\n",
              "      buttonEl.style.display =\n",
              "        google.colab.kernel.accessAllowed ? 'block' : 'none';\n",
              "\n",
              "      async function convertToInteractive(key) {\n",
              "        const element = document.querySelector('#df-5daae3b0-5f8d-4fe6-b56f-8504862c3d32');\n",
              "        const dataTable =\n",
              "          await google.colab.kernel.invokeFunction('convertToInteractive',\n",
              "                                                    [key], {});\n",
              "        if (!dataTable) return;\n",
              "\n",
              "        const docLinkHtml = 'Like what you see? Visit the ' +\n",
              "          '<a target=\"_blank\" href=https://colab.research.google.com/notebooks/data_table.ipynb>data table notebook</a>'\n",
              "          + ' to learn more about interactive tables.';\n",
              "        element.innerHTML = '';\n",
              "        dataTable['output_type'] = 'display_data';\n",
              "        await google.colab.output.renderOutput(dataTable, element);\n",
              "        const docLink = document.createElement('div');\n",
              "        docLink.innerHTML = docLinkHtml;\n",
              "        element.appendChild(docLink);\n",
              "      }\n",
              "    </script>\n",
              "  </div>\n",
              "\n",
              "\n",
              "<div id=\"df-c38ecb76-6184-47f6-a665-6e5c1f079938\">\n",
              "  <button class=\"colab-df-quickchart\" onclick=\"quickchart('df-c38ecb76-6184-47f6-a665-6e5c1f079938')\"\n",
              "            title=\"Suggest charts\"\n",
              "            style=\"display:none;\">\n",
              "\n",
              "<svg xmlns=\"http://www.w3.org/2000/svg\" height=\"24px\"viewBox=\"0 0 24 24\"\n",
              "     width=\"24px\">\n",
              "    <g>\n",
              "        <path d=\"M19 3H5c-1.1 0-2 .9-2 2v14c0 1.1.9 2 2 2h14c1.1 0 2-.9 2-2V5c0-1.1-.9-2-2-2zM9 17H7v-7h2v7zm4 0h-2V7h2v10zm4 0h-2v-4h2v4z\"/>\n",
              "    </g>\n",
              "</svg>\n",
              "  </button>\n",
              "\n",
              "<style>\n",
              "  .colab-df-quickchart {\n",
              "      --bg-color: #E8F0FE;\n",
              "      --fill-color: #1967D2;\n",
              "      --hover-bg-color: #E2EBFA;\n",
              "      --hover-fill-color: #174EA6;\n",
              "      --disabled-fill-color: #AAA;\n",
              "      --disabled-bg-color: #DDD;\n",
              "  }\n",
              "\n",
              "  [theme=dark] .colab-df-quickchart {\n",
              "      --bg-color: #3B4455;\n",
              "      --fill-color: #D2E3FC;\n",
              "      --hover-bg-color: #434B5C;\n",
              "      --hover-fill-color: #FFFFFF;\n",
              "      --disabled-bg-color: #3B4455;\n",
              "      --disabled-fill-color: #666;\n",
              "  }\n",
              "\n",
              "  .colab-df-quickchart {\n",
              "    background-color: var(--bg-color);\n",
              "    border: none;\n",
              "    border-radius: 50%;\n",
              "    cursor: pointer;\n",
              "    display: none;\n",
              "    fill: var(--fill-color);\n",
              "    height: 32px;\n",
              "    padding: 0;\n",
              "    width: 32px;\n",
              "  }\n",
              "\n",
              "  .colab-df-quickchart:hover {\n",
              "    background-color: var(--hover-bg-color);\n",
              "    box-shadow: 0 1px 2px rgba(60, 64, 67, 0.3), 0 1px 3px 1px rgba(60, 64, 67, 0.15);\n",
              "    fill: var(--button-hover-fill-color);\n",
              "  }\n",
              "\n",
              "  .colab-df-quickchart-complete:disabled,\n",
              "  .colab-df-quickchart-complete:disabled:hover {\n",
              "    background-color: var(--disabled-bg-color);\n",
              "    fill: var(--disabled-fill-color);\n",
              "    box-shadow: none;\n",
              "  }\n",
              "\n",
              "  .colab-df-spinner {\n",
              "    border: 2px solid var(--fill-color);\n",
              "    border-color: transparent;\n",
              "    border-bottom-color: var(--fill-color);\n",
              "    animation:\n",
              "      spin 1s steps(1) infinite;\n",
              "  }\n",
              "\n",
              "  @keyframes spin {\n",
              "    0% {\n",
              "      border-color: transparent;\n",
              "      border-bottom-color: var(--fill-color);\n",
              "      border-left-color: var(--fill-color);\n",
              "    }\n",
              "    20% {\n",
              "      border-color: transparent;\n",
              "      border-left-color: var(--fill-color);\n",
              "      border-top-color: var(--fill-color);\n",
              "    }\n",
              "    30% {\n",
              "      border-color: transparent;\n",
              "      border-left-color: var(--fill-color);\n",
              "      border-top-color: var(--fill-color);\n",
              "      border-right-color: var(--fill-color);\n",
              "    }\n",
              "    40% {\n",
              "      border-color: transparent;\n",
              "      border-right-color: var(--fill-color);\n",
              "      border-top-color: var(--fill-color);\n",
              "    }\n",
              "    60% {\n",
              "      border-color: transparent;\n",
              "      border-right-color: var(--fill-color);\n",
              "    }\n",
              "    80% {\n",
              "      border-color: transparent;\n",
              "      border-right-color: var(--fill-color);\n",
              "      border-bottom-color: var(--fill-color);\n",
              "    }\n",
              "    90% {\n",
              "      border-color: transparent;\n",
              "      border-bottom-color: var(--fill-color);\n",
              "    }\n",
              "  }\n",
              "</style>\n",
              "\n",
              "  <script>\n",
              "    async function quickchart(key) {\n",
              "      const quickchartButtonEl =\n",
              "        document.querySelector('#' + key + ' button');\n",
              "      quickchartButtonEl.disabled = true;  // To prevent multiple clicks.\n",
              "      quickchartButtonEl.classList.add('colab-df-spinner');\n",
              "      try {\n",
              "        const charts = await google.colab.kernel.invokeFunction(\n",
              "            'suggestCharts', [key], {});\n",
              "      } catch (error) {\n",
              "        console.error('Error during call to suggestCharts:', error);\n",
              "      }\n",
              "      quickchartButtonEl.classList.remove('colab-df-spinner');\n",
              "      quickchartButtonEl.classList.add('colab-df-quickchart-complete');\n",
              "    }\n",
              "    (() => {\n",
              "      let quickchartButtonEl =\n",
              "        document.querySelector('#df-c38ecb76-6184-47f6-a665-6e5c1f079938 button');\n",
              "      quickchartButtonEl.style.display =\n",
              "        google.colab.kernel.accessAllowed ? 'block' : 'none';\n",
              "    })();\n",
              "  </script>\n",
              "</div>\n",
              "    </div>\n",
              "  </div>\n"
            ]
          },
          "metadata": {},
          "execution_count": 56
        }
      ]
    },
    {
      "cell_type": "code",
      "source": [
        "precisions = []\n",
        "recalls = []\n",
        "for user in users:\n",
        "  pred_k = all_predictions[all_predictions['user_id']==user].sort_values('predictions', ascending=False)[:10]\n",
        "  pred_k = pred_k.merge(df, how='left', on=['user_id','vod_id']).fillna(0)\n",
        "  precision = pred_k['rating'].sum() / 10\n",
        "  recall = pred_k['rating'].sum() / df[df['user_id']==user]['rating'].sum()\n",
        "  precisions.append(precision)\n",
        "  recalls.append(recall)"
      ],
      "metadata": {
        "id": "JIytYRUI80Y9"
      },
      "execution_count": 64,
      "outputs": []
    },
    {
      "cell_type": "code",
      "source": [
        "# precision@K\n",
        "np.mean(precisions)\n",
        "#np.mean(recall) # 0이 나오는데, 실제 본 게 있는 사람 대상으로만 계산하도록 해야 함 - 수정 필요"
      ],
      "metadata": {
        "colab": {
          "base_uri": "https://localhost:8080/"
        },
        "id": "Py_S5iqx_6hN",
        "outputId": "d2a08a31-4d91-4d9b-b550-4fce6c641432"
      },
      "execution_count": 73,
      "outputs": [
        {
          "output_type": "execute_result",
          "data": {
            "text/plain": [
              "0.10032467532467533"
            ]
          },
          "metadata": {},
          "execution_count": 73
        }
      ]
    },
    {
      "cell_type": "code",
      "source": [],
      "metadata": {
        "id": "cUZ0zOaWAlHd"
      },
      "execution_count": null,
      "outputs": []
    },
    {
      "cell_type": "code",
      "source": [
        "# recall@K 계산 - 추천한 K개 중 사용자가 관심 있는 아이템 수 / 사용자가 관심 있는 모든 아이템 수\n",
        "# 실제 사용자가 관심 있는 아이템 수가 적은 문제가 있음\n",
        "df[df['user_id']==0]"
      ],
      "metadata": {
        "colab": {
          "base_uri": "https://localhost:8080/",
          "height": 269
        },
        "id": "qhpGs-iDAJRf",
        "outputId": "3a879a04-4421-4a81-f095-1ed627a3f046"
      },
      "execution_count": 63,
      "outputs": [
        {
          "output_type": "execute_result",
          "data": {
            "text/plain": [
              "      user_id  vod_id  rating\n",
              "358         0     167       1\n",
              "427         0     169       1\n",
              "3418        0    4754       0\n",
              "3457        0     152       0\n",
              "3479        0    1549       0\n",
              "3638        0    1608       0\n",
              "3749        0     139       0"
            ],
            "text/html": [
              "\n",
              "  <div id=\"df-b72a0e7e-c280-44e7-b946-4e98439e264b\" class=\"colab-df-container\">\n",
              "    <div>\n",
              "<style scoped>\n",
              "    .dataframe tbody tr th:only-of-type {\n",
              "        vertical-align: middle;\n",
              "    }\n",
              "\n",
              "    .dataframe tbody tr th {\n",
              "        vertical-align: top;\n",
              "    }\n",
              "\n",
              "    .dataframe thead th {\n",
              "        text-align: right;\n",
              "    }\n",
              "</style>\n",
              "<table border=\"1\" class=\"dataframe\">\n",
              "  <thead>\n",
              "    <tr style=\"text-align: right;\">\n",
              "      <th></th>\n",
              "      <th>user_id</th>\n",
              "      <th>vod_id</th>\n",
              "      <th>rating</th>\n",
              "    </tr>\n",
              "  </thead>\n",
              "  <tbody>\n",
              "    <tr>\n",
              "      <th>358</th>\n",
              "      <td>0</td>\n",
              "      <td>167</td>\n",
              "      <td>1</td>\n",
              "    </tr>\n",
              "    <tr>\n",
              "      <th>427</th>\n",
              "      <td>0</td>\n",
              "      <td>169</td>\n",
              "      <td>1</td>\n",
              "    </tr>\n",
              "    <tr>\n",
              "      <th>3418</th>\n",
              "      <td>0</td>\n",
              "      <td>4754</td>\n",
              "      <td>0</td>\n",
              "    </tr>\n",
              "    <tr>\n",
              "      <th>3457</th>\n",
              "      <td>0</td>\n",
              "      <td>152</td>\n",
              "      <td>0</td>\n",
              "    </tr>\n",
              "    <tr>\n",
              "      <th>3479</th>\n",
              "      <td>0</td>\n",
              "      <td>1549</td>\n",
              "      <td>0</td>\n",
              "    </tr>\n",
              "    <tr>\n",
              "      <th>3638</th>\n",
              "      <td>0</td>\n",
              "      <td>1608</td>\n",
              "      <td>0</td>\n",
              "    </tr>\n",
              "    <tr>\n",
              "      <th>3749</th>\n",
              "      <td>0</td>\n",
              "      <td>139</td>\n",
              "      <td>0</td>\n",
              "    </tr>\n",
              "  </tbody>\n",
              "</table>\n",
              "</div>\n",
              "    <div class=\"colab-df-buttons\">\n",
              "\n",
              "  <div class=\"colab-df-container\">\n",
              "    <button class=\"colab-df-convert\" onclick=\"convertToInteractive('df-b72a0e7e-c280-44e7-b946-4e98439e264b')\"\n",
              "            title=\"Convert this dataframe to an interactive table.\"\n",
              "            style=\"display:none;\">\n",
              "\n",
              "  <svg xmlns=\"http://www.w3.org/2000/svg\" height=\"24px\" viewBox=\"0 -960 960 960\">\n",
              "    <path d=\"M120-120v-720h720v720H120Zm60-500h600v-160H180v160Zm220 220h160v-160H400v160Zm0 220h160v-160H400v160ZM180-400h160v-160H180v160Zm440 0h160v-160H620v160ZM180-180h160v-160H180v160Zm440 0h160v-160H620v160Z\"/>\n",
              "  </svg>\n",
              "    </button>\n",
              "\n",
              "  <style>\n",
              "    .colab-df-container {\n",
              "      display:flex;\n",
              "      gap: 12px;\n",
              "    }\n",
              "\n",
              "    .colab-df-convert {\n",
              "      background-color: #E8F0FE;\n",
              "      border: none;\n",
              "      border-radius: 50%;\n",
              "      cursor: pointer;\n",
              "      display: none;\n",
              "      fill: #1967D2;\n",
              "      height: 32px;\n",
              "      padding: 0 0 0 0;\n",
              "      width: 32px;\n",
              "    }\n",
              "\n",
              "    .colab-df-convert:hover {\n",
              "      background-color: #E2EBFA;\n",
              "      box-shadow: 0px 1px 2px rgba(60, 64, 67, 0.3), 0px 1px 3px 1px rgba(60, 64, 67, 0.15);\n",
              "      fill: #174EA6;\n",
              "    }\n",
              "\n",
              "    .colab-df-buttons div {\n",
              "      margin-bottom: 4px;\n",
              "    }\n",
              "\n",
              "    [theme=dark] .colab-df-convert {\n",
              "      background-color: #3B4455;\n",
              "      fill: #D2E3FC;\n",
              "    }\n",
              "\n",
              "    [theme=dark] .colab-df-convert:hover {\n",
              "      background-color: #434B5C;\n",
              "      box-shadow: 0px 1px 3px 1px rgba(0, 0, 0, 0.15);\n",
              "      filter: drop-shadow(0px 1px 2px rgba(0, 0, 0, 0.3));\n",
              "      fill: #FFFFFF;\n",
              "    }\n",
              "  </style>\n",
              "\n",
              "    <script>\n",
              "      const buttonEl =\n",
              "        document.querySelector('#df-b72a0e7e-c280-44e7-b946-4e98439e264b button.colab-df-convert');\n",
              "      buttonEl.style.display =\n",
              "        google.colab.kernel.accessAllowed ? 'block' : 'none';\n",
              "\n",
              "      async function convertToInteractive(key) {\n",
              "        const element = document.querySelector('#df-b72a0e7e-c280-44e7-b946-4e98439e264b');\n",
              "        const dataTable =\n",
              "          await google.colab.kernel.invokeFunction('convertToInteractive',\n",
              "                                                    [key], {});\n",
              "        if (!dataTable) return;\n",
              "\n",
              "        const docLinkHtml = 'Like what you see? Visit the ' +\n",
              "          '<a target=\"_blank\" href=https://colab.research.google.com/notebooks/data_table.ipynb>data table notebook</a>'\n",
              "          + ' to learn more about interactive tables.';\n",
              "        element.innerHTML = '';\n",
              "        dataTable['output_type'] = 'display_data';\n",
              "        await google.colab.output.renderOutput(dataTable, element);\n",
              "        const docLink = document.createElement('div');\n",
              "        docLink.innerHTML = docLinkHtml;\n",
              "        element.appendChild(docLink);\n",
              "      }\n",
              "    </script>\n",
              "  </div>\n",
              "\n",
              "\n",
              "<div id=\"df-f679a5d0-2efa-4be9-9487-97f80e31417f\">\n",
              "  <button class=\"colab-df-quickchart\" onclick=\"quickchart('df-f679a5d0-2efa-4be9-9487-97f80e31417f')\"\n",
              "            title=\"Suggest charts\"\n",
              "            style=\"display:none;\">\n",
              "\n",
              "<svg xmlns=\"http://www.w3.org/2000/svg\" height=\"24px\"viewBox=\"0 0 24 24\"\n",
              "     width=\"24px\">\n",
              "    <g>\n",
              "        <path d=\"M19 3H5c-1.1 0-2 .9-2 2v14c0 1.1.9 2 2 2h14c1.1 0 2-.9 2-2V5c0-1.1-.9-2-2-2zM9 17H7v-7h2v7zm4 0h-2V7h2v10zm4 0h-2v-4h2v4z\"/>\n",
              "    </g>\n",
              "</svg>\n",
              "  </button>\n",
              "\n",
              "<style>\n",
              "  .colab-df-quickchart {\n",
              "      --bg-color: #E8F0FE;\n",
              "      --fill-color: #1967D2;\n",
              "      --hover-bg-color: #E2EBFA;\n",
              "      --hover-fill-color: #174EA6;\n",
              "      --disabled-fill-color: #AAA;\n",
              "      --disabled-bg-color: #DDD;\n",
              "  }\n",
              "\n",
              "  [theme=dark] .colab-df-quickchart {\n",
              "      --bg-color: #3B4455;\n",
              "      --fill-color: #D2E3FC;\n",
              "      --hover-bg-color: #434B5C;\n",
              "      --hover-fill-color: #FFFFFF;\n",
              "      --disabled-bg-color: #3B4455;\n",
              "      --disabled-fill-color: #666;\n",
              "  }\n",
              "\n",
              "  .colab-df-quickchart {\n",
              "    background-color: var(--bg-color);\n",
              "    border: none;\n",
              "    border-radius: 50%;\n",
              "    cursor: pointer;\n",
              "    display: none;\n",
              "    fill: var(--fill-color);\n",
              "    height: 32px;\n",
              "    padding: 0;\n",
              "    width: 32px;\n",
              "  }\n",
              "\n",
              "  .colab-df-quickchart:hover {\n",
              "    background-color: var(--hover-bg-color);\n",
              "    box-shadow: 0 1px 2px rgba(60, 64, 67, 0.3), 0 1px 3px 1px rgba(60, 64, 67, 0.15);\n",
              "    fill: var(--button-hover-fill-color);\n",
              "  }\n",
              "\n",
              "  .colab-df-quickchart-complete:disabled,\n",
              "  .colab-df-quickchart-complete:disabled:hover {\n",
              "    background-color: var(--disabled-bg-color);\n",
              "    fill: var(--disabled-fill-color);\n",
              "    box-shadow: none;\n",
              "  }\n",
              "\n",
              "  .colab-df-spinner {\n",
              "    border: 2px solid var(--fill-color);\n",
              "    border-color: transparent;\n",
              "    border-bottom-color: var(--fill-color);\n",
              "    animation:\n",
              "      spin 1s steps(1) infinite;\n",
              "  }\n",
              "\n",
              "  @keyframes spin {\n",
              "    0% {\n",
              "      border-color: transparent;\n",
              "      border-bottom-color: var(--fill-color);\n",
              "      border-left-color: var(--fill-color);\n",
              "    }\n",
              "    20% {\n",
              "      border-color: transparent;\n",
              "      border-left-color: var(--fill-color);\n",
              "      border-top-color: var(--fill-color);\n",
              "    }\n",
              "    30% {\n",
              "      border-color: transparent;\n",
              "      border-left-color: var(--fill-color);\n",
              "      border-top-color: var(--fill-color);\n",
              "      border-right-color: var(--fill-color);\n",
              "    }\n",
              "    40% {\n",
              "      border-color: transparent;\n",
              "      border-right-color: var(--fill-color);\n",
              "      border-top-color: var(--fill-color);\n",
              "    }\n",
              "    60% {\n",
              "      border-color: transparent;\n",
              "      border-right-color: var(--fill-color);\n",
              "    }\n",
              "    80% {\n",
              "      border-color: transparent;\n",
              "      border-right-color: var(--fill-color);\n",
              "      border-bottom-color: var(--fill-color);\n",
              "    }\n",
              "    90% {\n",
              "      border-color: transparent;\n",
              "      border-bottom-color: var(--fill-color);\n",
              "    }\n",
              "  }\n",
              "</style>\n",
              "\n",
              "  <script>\n",
              "    async function quickchart(key) {\n",
              "      const quickchartButtonEl =\n",
              "        document.querySelector('#' + key + ' button');\n",
              "      quickchartButtonEl.disabled = true;  // To prevent multiple clicks.\n",
              "      quickchartButtonEl.classList.add('colab-df-spinner');\n",
              "      try {\n",
              "        const charts = await google.colab.kernel.invokeFunction(\n",
              "            'suggestCharts', [key], {});\n",
              "      } catch (error) {\n",
              "        console.error('Error during call to suggestCharts:', error);\n",
              "      }\n",
              "      quickchartButtonEl.classList.remove('colab-df-spinner');\n",
              "      quickchartButtonEl.classList.add('colab-df-quickchart-complete');\n",
              "    }\n",
              "    (() => {\n",
              "      let quickchartButtonEl =\n",
              "        document.querySelector('#df-f679a5d0-2efa-4be9-9487-97f80e31417f button');\n",
              "      quickchartButtonEl.style.display =\n",
              "        google.colab.kernel.accessAllowed ? 'block' : 'none';\n",
              "    })();\n",
              "  </script>\n",
              "</div>\n",
              "    </div>\n",
              "  </div>\n"
            ]
          },
          "metadata": {},
          "execution_count": 63
        }
      ]
    },
    {
      "cell_type": "code",
      "source": [
        "# 궁금한 것\n",
        "# Precision@k 측정할때 시간이 이렇게 오래걸려도 되는 것인강..ㅇ."
      ],
      "metadata": {
        "id": "dXOmuLse5vmh"
      },
      "execution_count": null,
      "outputs": []
    }
  ]
}